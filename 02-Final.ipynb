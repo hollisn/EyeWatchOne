{
 "cells": [
  {
   "cell_type": "markdown",
   "metadata": {},
   "source": [
    "## EyeWatchOne Engineering Prototype\n",
    "\n",
    "Hyper local weather related accident prediction.\n",
    "\n",
    "Gives a browser/mobile based heatmap overlay on satellite images showing where accidents are predicted to occur given historical accidents and incoming weather.\n",
    "\n",
    "\n",
    "Targeted towards government planning for road emergency services, but can also be used for insurance claims adjustment, logistics companies's route planning, and much more. \n",
    "\n",
    "##### This notebook can be run on windows, osx, linux, any platform with aws-cli installed."
   ]
  },
  {
   "cell_type": "markdown",
   "metadata": {},
   "source": [
    "### 1. Fix errors in AWS command line interface\n",
    "\n",
    "I had an issue with windows not associating .py with my Python install.\n",
    "\n",
    "fix .py file association error\n",
    "http://superuser.com/questions/429604/passing-arguments-to-a-python-script-file-association-not-found-windows-7-on-i"
   ]
  },
  {
   "cell_type": "markdown",
   "metadata": {},
   "source": [
    "### 2. Upload test insurance data to S3 bucket: eyewatchone\n",
    "\n",
    "code adapted from http://boto.cloudhackers.com/en/latest/s3_tut.html\n",
    "\n",
    "Insurance data:  \n",
    "470 MB zipped csv  \n",
    "from https://www.kaggle.com/c/ClaimPredictionChallenge/"
   ]
  },
  {
   "cell_type": "code",
   "execution_count": 4,
   "metadata": {
    "collapsed": false
   },
   "outputs": [
    {
     "name": "stdout",
     "output_type": "stream",
     "text": [
      "upload: data/example_compressed_entry.zip to s3://eyewatchone/example_compressed_entry.zip\r\n"
     ]
    }
   ],
   "source": [
    "! aws s3 cp data/example_compressed_entry.zip s3://eyewatchone --grants \\\n",
    "    read=uri=http://acs.amazonaws.com/groups/global/AllUsers full=emailaddress=hollisnolan@gmail.com"
   ]
  },
  {
   "cell_type": "code",
   "execution_count": 5,
   "metadata": {
    "collapsed": false
   },
   "outputs": [
    {
     "name": "stdout",
     "output_type": "stream",
     "text": [
      "upload: data/dictionary.html to s3://eyewatchone/dictionary.html\r\n"
     ]
    }
   ],
   "source": [
    "! aws s3 cp data/dictionary.html s3://eyewatchone --grants \\\n",
    "    read=uri=http://acs.amazonaws.com/groups/global/AllUsers full=emailaddress=hollisnolan@gmail.com"
   ]
  },
  {
   "cell_type": "markdown",
   "metadata": {},
   "source": [
    "#### Move the full sets of Insurance Data to S3"
   ]
  },
  {
   "cell_type": "code",
   "execution_count": null,
   "metadata": {
    "collapsed": false
   },
   "outputs": [],
   "source": [
    "! aws s3 cp data/test_set.zip s3://eyewatchone --grants \\\n",
    "    read=uri=http://acs.amazonaws.com/groups/global/AllUsers full=emailaddress=hollisnolan@gmail.com"
   ]
  },
  {
   "cell_type": "code",
   "execution_count": null,
   "metadata": {
    "collapsed": false
   },
   "outputs": [],
   "source": [
    "! aws s3 cp data/train_set.zip s3://eyewatchone --grants \\\n",
    "    read=uri=http://acs.amazonaws.com/groups/global/AllUsers full=emailaddress=hollisnolan@gmail.com"
   ]
  },
  {
   "cell_type": "code",
   "execution_count": 6,
   "metadata": {
    "collapsed": false
   },
   "outputs": [
    {
     "name": "stdout",
     "output_type": "stream",
     "text": [
      "2016-03-07 18:50:42      24768 dictionary.html\r\n",
      "2016-03-07 18:50:36    5120252 example_compressed_entry.zip\r\n",
      "2016-02-27 20:29:50  138124104 test_set.zip\r\n",
      "2016-02-27 20:31:27  380553491 train_set.zip\r\n"
     ]
    }
   ],
   "source": [
    "! aws s3 ls s3://eyewatchone"
   ]
  },
  {
   "cell_type": "markdown",
   "metadata": {},
   "source": [
    "### 3. Spin up analytics EC2 instance\n",
    "\n",
    "(right click for paste in windows)\n",
    "\n",
    "Create an image from the Data Science Tookbox ami"
   ]
  },
  {
   "cell_type": "code",
   "execution_count": 7,
   "metadata": {
    "collapsed": false
   },
   "outputs": [
    {
     "name": "stdout",
     "output_type": "stream",
     "text": [
      "You must specify a region. You can also configure your region by running \"aws configure\".\r\n"
     ]
    }
   ],
   "source": [
    "# create an instance, DS-toolbox ami and XL size\n",
    "\n",
    "!aws ec2 run-instances --image-id ami-d1737bb8 --count 1 --instance-type m3.xlarge --key-name .boto --security-groups my-sg"
   ]
  },
  {
   "cell_type": "markdown",
   "metadata": {},
   "source": [
    "Historical weather data:  \n",
    "20 GB EBS snapshot  \n",
    "https://aws.amazon.com/datasets/daily-global-weather-measurements-1929-2009-ncdc-gsod/  "
   ]
  },
  {
   "cell_type": "code",
   "execution_count": null,
   "metadata": {
    "collapsed": true
   },
   "outputs": [],
   "source": [
    "# attach EBS historical weather data \n",
    "\n",
    "ec2-attach-volume snap-ac47f4c5 --instance i-582bf5dc --device  /dev/sdf"
   ]
  },
  {
   "cell_type": "markdown",
   "metadata": {},
   "source": [
    "or retstart a stopped instance"
   ]
  },
  {
   "cell_type": "code",
   "execution_count": 8,
   "metadata": {
    "collapsed": false
   },
   "outputs": [
    {
     "name": "stdout",
     "output_type": "stream",
     "text": [
      "{\r\n",
      "    \"StartingInstances\": [\r\n",
      "        {\r\n",
      "            \"InstanceId\": \"i-582bf5dc\", \r\n",
      "            \"CurrentState\": {\r\n",
      "                \"Code\": 0, \r\n",
      "                \"Name\": \"pending\"\r\n",
      "            }, \r\n",
      "            \"PreviousState\": {\r\n",
      "                \"Code\": 80, \r\n",
      "                \"Name\": \"stopped\"\r\n",
      "            }\r\n",
      "        }\r\n",
      "    ]\r\n",
      "}\r\n"
     ]
    }
   ],
   "source": [
    "# restart a stopped instance \n",
    "\n",
    "!aws ec2 start-instances --instance-ids i-582bf5dc --region us-east-1"
   ]
  },
  {
   "cell_type": "code",
   "execution_count": 9,
   "metadata": {
    "collapsed": true
   },
   "outputs": [
    {
     "name": "stdout",
     "output_type": "stream",
     "text": [
      "{\r\n",
      "    \"Reservations\": [\r\n",
      "        {\r\n",
      "            \"OwnerId\": \"563534492411\", \r\n",
      "            \"ReservationId\": \"r-47e34b95\", \r\n",
      "            \"Groups\": [], \r\n",
      "            \"Instances\": [\r\n",
      "                {\r\n",
      "                    \"Monitoring\": {\r\n",
      "                        \"State\": \"disabled\"\r\n",
      "                    }, \r\n",
      "                    \"PublicDnsName\": \"ec2-54-88-161-196.compute-1.amazonaws.com\", \r\n",
      "                    \"RootDeviceType\": \"ebs\", \r\n",
      "                    \"State\": {\r\n",
      "                        \"Code\": 16, \r\n",
      "                        \"Name\": \"running\"\r\n",
      "                    }, \r\n",
      "                    \"EbsOptimized\": true, \r\n",
      "                    \"LaunchTime\": \"2016-03-08T03:17:16.000Z\", \r\n",
      "                    \"PublicIpAddress\": \"54.88.161.196\", \r\n",
      "                    \"PrivateIpAddress\": \"172.31.10.190\", \r\n",
      "                    \"ProductCodes\": [], \r\n",
      "                    \"VpcId\": \"vpc-66511502\", \r\n",
      "                    \"StateTransitionReason\": \"\", \r\n",
      "                    \"InstanceId\": \"i-582bf5dc\", \r\n",
      "                    \"ImageId\": \"ami-d1737bb8\", \r\n",
      "                    \"PrivateDnsName\": \"ip-172-31-10-190.ec2.internal\", \r\n",
      "                    \"KeyName\": \".boto\", \r\n",
      "                    \"SecurityGroups\": [\r\n",
      "                        {\r\n",
      "                            \"GroupName\": \"launch-wizard-9\", \r\n",
      "                            \"GroupId\": \"sg-a02e89d8\"\r\n",
      "                        }\r\n",
      "                    ], \r\n",
      "                    \"ClientToken\": \"MJBJs1456688536030\", \r\n",
      "                    \"SubnetId\": \"subnet-4d77dc3b\", \r\n",
      "                    \"InstanceType\": \"m3.xlarge\", \r\n",
      "                    \"NetworkInterfaces\": [\r\n",
      "                        {\r\n",
      "                            \"Status\": \"in-use\", \r\n",
      "                            \"MacAddress\": \"0a:9e:c6:f5:29:69\", \r\n",
      "                            \"SourceDestCheck\": true, \r\n",
      "                            \"VpcId\": \"vpc-66511502\", \r\n",
      "                            \"Description\": \"\", \r\n",
      "                            \"Association\": {\r\n",
      "                                \"PublicIp\": \"54.88.161.196\", \r\n",
      "                                \"PublicDnsName\": \"ec2-54-88-161-196.compute-1.amazonaws.com\", \r\n",
      "                                \"IpOwnerId\": \"amazon\"\r\n",
      "                            }, \r\n",
      "                            \"NetworkInterfaceId\": \"eni-34f5bf7a\", \r\n",
      "                            \"PrivateIpAddresses\": [\r\n",
      "                                {\r\n",
      "                                    \"PrivateDnsName\": \"ip-172-31-10-190.ec2.internal\", \r\n",
      "                                    \"Association\": {\r\n",
      "                                        \"PublicIp\": \"54.88.161.196\", \r\n",
      "                                        \"PublicDnsName\": \"ec2-54-88-161-196.compute-1.amazonaws.com\", \r\n",
      "                                        \"IpOwnerId\": \"amazon\"\r\n",
      "                                    }, \r\n",
      "                                    \"Primary\": true, \r\n",
      "                                    \"PrivateIpAddress\": \"172.31.10.190\"\r\n",
      "                                }\r\n",
      "                            ], \r\n",
      "                            \"PrivateDnsName\": \"ip-172-31-10-190.ec2.internal\", \r\n",
      "                            \"Attachment\": {\r\n",
      "                                \"Status\": \"attached\", \r\n",
      "                                \"DeviceIndex\": 0, \r\n",
      "                                \"DeleteOnTermination\": true, \r\n",
      "                                \"AttachmentId\": \"eni-attach-be85b545\", \r\n",
      "                                \"AttachTime\": \"2016-02-28T19:42:16.000Z\"\r\n",
      "                            }, \r\n",
      "                            \"Groups\": [\r\n",
      "                                {\r\n",
      "                                    \"GroupName\": \"launch-wizard-9\", \r\n",
      "                                    \"GroupId\": \"sg-a02e89d8\"\r\n",
      "                                }\r\n",
      "                            ], \r\n",
      "                            \"SubnetId\": \"subnet-4d77dc3b\", \r\n",
      "                            \"OwnerId\": \"563534492411\", \r\n",
      "                            \"PrivateIpAddress\": \"172.31.10.190\"\r\n",
      "                        }\r\n",
      "                    ], \r\n",
      "                    \"SourceDestCheck\": true, \r\n",
      "                    \"Placement\": {\r\n",
      "                        \"Tenancy\": \"default\", \r\n",
      "                        \"GroupName\": \"\", \r\n",
      "                        \"AvailabilityZone\": \"us-east-1c\"\r\n",
      "                    }, \r\n",
      "                    \"Hypervisor\": \"xen\", \r\n",
      "                    \"BlockDeviceMappings\": [\r\n",
      "                        {\r\n",
      "                            \"DeviceName\": \"/dev/sda1\", \r\n",
      "                            \"Ebs\": {\r\n",
      "                                \"Status\": \"attached\", \r\n",
      "                                \"DeleteOnTermination\": true, \r\n",
      "                                \"VolumeId\": \"vol-9c264035\", \r\n",
      "                                \"AttachTime\": \"2016-02-28T19:42:17.000Z\"\r\n",
      "                            }\r\n",
      "                        }, \r\n",
      "                        {\r\n",
      "                            \"DeviceName\": \"/dev/sdf\", \r\n",
      "                            \"Ebs\": {\r\n",
      "                                \"Status\": \"attached\", \r\n",
      "                                \"DeleteOnTermination\": false, \r\n",
      "                                \"VolumeId\": \"vol-39264090\", \r\n",
      "                                \"AttachTime\": \"2016-02-28T19:42:17.000Z\"\r\n",
      "                            }\r\n",
      "                        }\r\n",
      "                    ], \r\n",
      "                    \"Architecture\": \"x86_64\", \r\n",
      "                    \"KernelId\": \"aki-919dcaf8\", \r\n",
      "                    \"RootDeviceName\": \"/dev/sda1\", \r\n",
      "                    \"VirtualizationType\": \"paravirtual\", \r\n",
      "                    \"Tags\": [\r\n",
      "                        {\r\n",
      "                            \"Value\": \"Model Training EC2-ESB\", \r\n",
      "                            \"Key\": \"Name\"\r\n",
      "                        }\r\n",
      "                    ], \r\n",
      "                    \"AmiLaunchIndex\": 0\r\n",
      "                }\r\n",
      "            ]\r\n",
      "        }\r\n",
      "    ]\r\n",
      "}\r\n"
     ]
    }
   ],
   "source": [
    "# get PublicDnsName and IP\n",
    "!aws ec2 describe-instances --instance-ids i-582bf5dc --region us-east-1 "
   ]
  },
  {
   "cell_type": "markdown",
   "metadata": {},
   "source": [
    "Ssh into the instance and start a notebook"
   ]
  },
  {
   "cell_type": "code",
   "execution_count": null,
   "metadata": {
    "collapsed": true
   },
   "outputs": [],
   "source": [
    "# ssh in (in terminal) \n",
    "ssh -X -i ~/.ssh/aws.pem ubuntu@ec2-54-88-161-196.compute-1.amazonaws.com\n",
    "\n",
    "# update \n",
    "sudo apt-get update && sudo apt-get upgrade\n",
    "\n",
    "### super update (in terminal, very long)\n",
    "sudo do-release-upgrade\n",
    "\n",
    "# update pip \n",
    "sudo pip install pip --upgrade\n",
    "\n",
    "# install notebook\n",
    "sudo pip install --upgrade \"ipython[notebook]\"\n",
    "\n",
    "# open ports \n",
    "In the Security Group, select Inbound, then Edit, and then Add Rule. The Port Range should be 8888 and the Sourceis 0.0.0.0/0\n",
    "\n",
    "# start tmux \n",
    "tmux new -s notebook\n",
    "\n",
    "# new notebook with ip specified\n",
    "jupyter notebook --no-browser --ip=0.0.0.0\n",
    "\n",
    "# grab ip address of instance and navigate to \n",
    "http://54.88.161.196:8888/tree\n",
    "        \n",
    "# save this notebook, close it locally, and use the \"upload\" button to move it into the aws instance\n",
    "# rerun notebook from there"
   ]
  },
  {
   "cell_type": "code",
   "execution_count": 27,
   "metadata": {
    "collapsed": false
   },
   "outputs": [
    {
     "name": "stdout",
     "output_type": "stream",
     "text": [
      "\r",
      "09-Demo.ipynb                                   0%    0     0.0KB/s   --:-- ETA\r",
      "09-Demo.ipynb                                 100%   52KB  51.8KB/s   00:00    \r\n"
     ]
    }
   ],
   "source": [
    "! scp -i /users/hn/.ssh/aws.pem 09-Demo.ipynb ubuntu@ec2-54-88-161-196.compute-1.amazonaws.com:~"
   ]
  },
  {
   "cell_type": "markdown",
   "metadata": {
    "collapsed": true
   },
   "source": [
    "### 4. Check historical weather in EBS public data set\n",
    "\n",
    "how to \n",
    "http://docs.aws.amazon.com/AWSEC2/latest/UserGuide/ebs-attaching-volume.html\n",
    "\n",
    "public weather\n",
    "https://aws.amazon.com/datasets/daily-global-weather-measurements-1929-2009-ncdc-gsod/"
   ]
  },
  {
   "cell_type": "code",
   "execution_count": 2,
   "metadata": {
    "collapsed": false
   },
   "outputs": [
    {
     "name": "stdout",
     "output_type": "stream",
     "text": [
      "/home/ubuntu\r\n"
     ]
    }
   ],
   "source": [
    "! pwd"
   ]
  },
  {
   "cell_type": "markdown",
   "metadata": {},
   "source": [
    "List disks "
   ]
  },
  {
   "cell_type": "code",
   "execution_count": 1,
   "metadata": {
    "collapsed": false
   },
   "outputs": [
    {
     "name": "stdout",
     "output_type": "stream",
     "text": [
      "NAME  MAJ:MIN RM SIZE RO TYPE MOUNTPOINT\r\n",
      "xvdf  202:80   0  50G  0 disk \r\n",
      "xvda1 202:1    0   8G  0 disk /\r\n"
     ]
    }
   ],
   "source": [
    "! lsblk"
   ]
  },
  {
   "cell_type": "markdown",
   "metadata": {},
   "source": [
    "mount disk \n",
    "(help from)\n",
    "https://help.ubuntu.com/community/InstallingANewHardDrive"
   ]
  },
  {
   "cell_type": "code",
   "execution_count": null,
   "metadata": {
    "collapsed": true
   },
   "outputs": [],
   "source": [
    "!sudo mount /dev/xvdf /hist_weather/"
   ]
  },
  {
   "cell_type": "code",
   "execution_count": 3,
   "metadata": {
    "collapsed": false,
    "scrolled": true
   },
   "outputs": [
    {
     "name": "stdout",
     "output_type": "stream",
     "text": [
      "\u001b[33mThe directory '/home/ubuntu/.cache/pip/http' or its parent directory is not owned by the current user and the cache has been disabled. Please check the permissions and owner of that directory. If executing pip with sudo, you may want sudo's -H flag.\u001b[0m\n",
      "\u001b[33mThe directory '/home/ubuntu/.cache/pip' or its parent directory is not owned by the current user and caching wheels has been disabled. check the permissions and owner of that directory. If executing pip with sudo, you may want sudo's -H flag.\u001b[0m\n",
      "/usr/local/lib/python2.7/dist-packages/pip/_vendor/requests/packages/urllib3/util/ssl_.py:315: SNIMissingWarning: An HTTPS request has been made, but the SNI (Subject Name Indication) extension to TLS is not available on this platform. This may cause the server to present an incorrect TLS certificate, which can cause validation failures. For more information, see https://urllib3.readthedocs.org/en/latest/security.html#snimissingwarning.\n",
      "  SNIMissingWarning\n",
      "/usr/local/lib/python2.7/dist-packages/pip/_vendor/requests/packages/urllib3/util/ssl_.py:120: InsecurePlatformWarning: A true SSLContext object is not available. This prevents urllib3 from configuring SSL appropriately and may cause certain SSL connections to fail. For more information, see https://urllib3.readthedocs.org/en/latest/security.html#insecureplatformwarning.\n",
      "  InsecurePlatformWarning\n",
      "Requirement already up-to-date: awscli in /usr/local/lib/python2.7/dist-packages\n",
      "Requirement already up-to-date: botocore==1.4.1 in /usr/local/lib/python2.7/dist-packages (from awscli)\n",
      "Requirement already up-to-date: rsa<=3.3.0,>=3.1.2 in /usr/local/lib/python2.7/dist-packages (from awscli)\n",
      "Requirement already up-to-date: colorama<=0.3.3,>=0.2.5 in /usr/local/lib/python2.7/dist-packages (from awscli)\n",
      "Requirement already up-to-date: s3transfer==0.0.1 in /usr/local/lib/python2.7/dist-packages (from awscli)\n",
      "Requirement already up-to-date: docutils>=0.10 in /usr/local/lib/python2.7/dist-packages (from awscli)\n",
      "Requirement already up-to-date: jmespath<1.0.0,>=0.7.1 in /usr/local/lib/python2.7/dist-packages (from botocore==1.4.1->awscli)\n",
      "Requirement already up-to-date: python-dateutil<3.0.0,>=2.1 in /usr/local/lib/python2.7/dist-packages (from botocore==1.4.1->awscli)\n",
      "Requirement already up-to-date: pyasn1>=0.1.3 in /usr/local/lib/python2.7/dist-packages (from rsa<=3.3.0,>=3.1.2->awscli)\n",
      "Requirement already up-to-date: futures<4.0.0,>=2.2.0 in /usr/local/lib/python2.7/dist-packages (from s3transfer==0.0.1->awscli)\n",
      "Requirement already up-to-date: six>=1.5 in /usr/local/lib/python2.7/dist-packages (from python-dateutil<3.0.0,>=2.1->botocore==1.4.1->awscli)\n",
      "/usr/local/lib/python2.7/dist-packages/pip/_vendor/requests/packages/urllib3/util/ssl_.py:120: InsecurePlatformWarning: A true SSLContext object is not available. This prevents urllib3 from configuring SSL appropriately and may cause certain SSL connections to fail. For more information, see https://urllib3.readthedocs.org/en/latest/security.html#insecureplatformwarning.\n",
      "  InsecurePlatformWarning\n"
     ]
    }
   ],
   "source": [
    "# install aws command line interface \n",
    "!sudo pip install awscli --upgrade"
   ]
  },
  {
   "cell_type": "code",
   "execution_count": 4,
   "metadata": {
    "collapsed": false
   },
   "outputs": [
    {
     "name": "stdout",
     "output_type": "stream",
     "text": [
      "AWS Access Key ID [****************BYWA]: ^C\n",
      "\n"
     ]
    }
   ],
   "source": [
    "# add credentials (in command line, not notebook)\n",
    "!aws configure "
   ]
  },
  {
   "cell_type": "markdown",
   "metadata": {},
   "source": [
    "###  5. Move historical insurance to EBS"
   ]
  },
  {
   "cell_type": "code",
   "execution_count": 5,
   "metadata": {
    "collapsed": false
   },
   "outputs": [
    {
     "name": "stdout",
     "output_type": "stream",
     "text": [
      "2016-03-08 02:50:42      24768 dictionary.html\r\n",
      "2016-03-08 02:50:36    5120252 example_compressed_entry.zip\r\n",
      "2016-02-28 04:29:50  138124104 test_set.zip\r\n",
      "2016-02-28 04:31:27  380553491 train_set.zip\r\n"
     ]
    }
   ],
   "source": [
    "!aws s3 ls s3://eyewatchone"
   ]
  },
  {
   "cell_type": "code",
   "execution_count": 6,
   "metadata": {
    "collapsed": false
   },
   "outputs": [
    {
     "name": "stdout",
     "output_type": "stream",
     "text": [
      "mkdir: cannot create directory ‘eyewatchone’: File exists\r\n"
     ]
    }
   ],
   "source": [
    "# make a directory for analytics \n",
    "!sudo mkdir eyewatchone"
   ]
  },
  {
   "cell_type": "code",
   "execution_count": 7,
   "metadata": {
    "collapsed": false
   },
   "outputs": [
    {
     "name": "stdout",
     "output_type": "stream",
     "text": [
      "download: s3://eyewatchone/example_compressed_entry.zip to eyewatchone/example_compressed_entry.zip\r\n"
     ]
    }
   ],
   "source": [
    "# copy files from s3\n",
    "!sudo aws s3 cp s3://eyewatchone/example_compressed_entry.zip eyewatchone/"
   ]
  },
  {
   "cell_type": "code",
   "execution_count": 9,
   "metadata": {
    "collapsed": false
   },
   "outputs": [
    {
     "name": "stdout",
     "output_type": "stream",
     "text": [
      "/bin/sh: 1: no: not found\r\n",
      "Archive:  eyewatchone/example_compressed_entry.zip\r\n",
      "replace example_compressed_entry.csv? [y]es, [n]o, [A]ll, [N]one, [r]ename:  NULL\r\n",
      "(EOF or read error, treating as \"[N]one\" ...)\r\n"
     ]
    }
   ],
   "source": [
    "# unzip\n",
    "!sudo unzip eyewatchone/example_compressed_entry.zip"
   ]
  },
  {
   "cell_type": "markdown",
   "metadata": {},
   "source": [
    "###  6. Move a sample image to EC2 analytics instance \n",
    "\n",
    "Histoical satellite images:  \n",
    "very very large, S3  \n",
    "1 GB / image, updated daily \n",
    "\n",
    "Commands to explore files, what PRE means \n",
    "http://docs.aws.amazon.com/cli/latest/reference/s3/ls.html"
   ]
  },
  {
   "cell_type": "code",
   "execution_count": 13,
   "metadata": {
    "collapsed": false
   },
   "outputs": [
    {
     "name": "stdout",
     "output_type": "stream",
     "text": [
      "/home/ubuntu\r\n"
     ]
    }
   ],
   "source": [
    "! pwd"
   ]
  },
  {
   "cell_type": "code",
   "execution_count": 19,
   "metadata": {
    "collapsed": false
   },
   "outputs": [
    {
     "name": "stdout",
     "output_type": "stream",
     "text": [
      "ls: cannot access datasat --recursive: No such file or directory\r\n"
     ]
    }
   ],
   "source": [
    "! "
   ]
  },
  {
   "cell_type": "code",
   "execution_count": 10,
   "metadata": {
    "collapsed": false
   },
   "outputs": [
    {
     "name": "stdout",
     "output_type": "stream",
     "text": [
      "2013-11-09 01:13:37   57716532 Landsat/gls/2000/001/012/p001r012_7x20010613.tar.gz\r\n"
     ]
    }
   ],
   "source": [
    "!aws s3 ls s3://nasanex/Landsat/gls/2000/001/012 --recursive "
   ]
  },
  {
   "cell_type": "code",
   "execution_count": 38,
   "metadata": {
    "collapsed": false
   },
   "outputs": [
    {
     "name": "stdout",
     "output_type": "stream",
     "text": [
      "download: s3://nasanex/Landsat/gls/2000/001/012/p001r012_7x20010613.tar.gz to ./p001r012_7x20010613.tar.gz\n"
     ]
    }
   ],
   "source": [
    "!aws s3 cp s3://nasanex/Landsat/gls/2000/001/012/p001r012_7x20010613.tar.gz ."
   ]
  },
  {
   "cell_type": "code",
   "execution_count": 39,
   "metadata": {
    "collapsed": false
   },
   "outputs": [
    {
     "name": "stdout",
     "output_type": "stream",
     "text": [
      "./p001r012_7dt20010613_z24_10.tif\n",
      "./p001r012_7dt20010613_z24_20.tif\n",
      "./p001r012_7dt20010613_z24_30.tif\n",
      "./p001r012_7dt20010613_z24_40.tif\n",
      "./p001r012_7dt20010613_z24_50.tif\n",
      "./p001r012_7dk20010613_z24_61.tif\n",
      "./p001r012_7dk20010613_z24_62.tif\n",
      "./p001r012_7dt20010613_z24_70.tif\n",
      "./p001r012_7dp20010613_z24_80.tif\n",
      "./p001r012_7x20010613.met\n"
     ]
    }
   ],
   "source": [
    "! tar -xvzf p001r012_7x20010613.tar.gz"
   ]
  },
  {
   "cell_type": "code",
   "execution_count": 42,
   "metadata": {
    "collapsed": false
   },
   "outputs": [],
   "source": [
    "! rm p001r012_7x20010613.tar.gz"
   ]
  },
  {
   "cell_type": "code",
   "execution_count": 20,
   "metadata": {
    "collapsed": false
   },
   "outputs": [
    {
     "ename": "IOError",
     "evalue": "[Errno 2] No such file or directory: 'p001r012_7dt20010613_z24_10.tif'",
     "output_type": "error",
     "traceback": [
      "\u001b[0;31m---------------------------------------------------------------------------\u001b[0m",
      "\u001b[0;31mIOError\u001b[0m                                   Traceback (most recent call last)",
      "\u001b[0;32m<ipython-input-20-f015daa1fc83>\u001b[0m in \u001b[0;36m<module>\u001b[0;34m()\u001b[0m\n\u001b[1;32m      1\u001b[0m \u001b[0;32mimport\u001b[0m \u001b[0mmatplotlib\u001b[0m\u001b[0;34m.\u001b[0m\u001b[0mpyplot\u001b[0m \u001b[0;32mas\u001b[0m \u001b[0mplt\u001b[0m\u001b[0;34m\u001b[0m\u001b[0m\n\u001b[0;32m----> 2\u001b[0;31m \u001b[0mimage\u001b[0m \u001b[0;34m=\u001b[0m \u001b[0mplt\u001b[0m\u001b[0;34m.\u001b[0m\u001b[0mimread\u001b[0m\u001b[0;34m(\u001b[0m\u001b[0;34m'p001r012_7dt20010613_z24_10.tif'\u001b[0m\u001b[0;34m)\u001b[0m\u001b[0;34m\u001b[0m\u001b[0m\n\u001b[0m\u001b[1;32m      3\u001b[0m \u001b[0mimage\u001b[0m\u001b[0;34m\u001b[0m\u001b[0m\n",
      "\u001b[0;32m/Users/hn/anaconda/lib/python2.7/site-packages/matplotlib/pyplot.pyc\u001b[0m in \u001b[0;36mimread\u001b[0;34m(*args, **kwargs)\u001b[0m\n\u001b[1;32m   2213\u001b[0m \u001b[0;34m@\u001b[0m\u001b[0mdocstring\u001b[0m\u001b[0;34m.\u001b[0m\u001b[0mcopy_dedent\u001b[0m\u001b[0;34m(\u001b[0m\u001b[0m_imread\u001b[0m\u001b[0;34m)\u001b[0m\u001b[0;34m\u001b[0m\u001b[0m\n\u001b[1;32m   2214\u001b[0m \u001b[0;32mdef\u001b[0m \u001b[0mimread\u001b[0m\u001b[0;34m(\u001b[0m\u001b[0;34m*\u001b[0m\u001b[0margs\u001b[0m\u001b[0;34m,\u001b[0m \u001b[0;34m**\u001b[0m\u001b[0mkwargs\u001b[0m\u001b[0;34m)\u001b[0m\u001b[0;34m:\u001b[0m\u001b[0;34m\u001b[0m\u001b[0m\n\u001b[0;32m-> 2215\u001b[0;31m     \u001b[0;32mreturn\u001b[0m \u001b[0m_imread\u001b[0m\u001b[0;34m(\u001b[0m\u001b[0;34m*\u001b[0m\u001b[0margs\u001b[0m\u001b[0;34m,\u001b[0m \u001b[0;34m**\u001b[0m\u001b[0mkwargs\u001b[0m\u001b[0;34m)\u001b[0m\u001b[0;34m\u001b[0m\u001b[0m\n\u001b[0m\u001b[1;32m   2216\u001b[0m \u001b[0;34m\u001b[0m\u001b[0m\n\u001b[1;32m   2217\u001b[0m \u001b[0;34m\u001b[0m\u001b[0m\n",
      "\u001b[0;32m/Users/hn/anaconda/lib/python2.7/site-packages/matplotlib/image.pyc\u001b[0m in \u001b[0;36mimread\u001b[0;34m(fname, format)\u001b[0m\n\u001b[1;32m   1252\u001b[0m \u001b[0;34m\u001b[0m\u001b[0m\n\u001b[1;32m   1253\u001b[0m     \u001b[0;32mif\u001b[0m \u001b[0mext\u001b[0m \u001b[0;32mnot\u001b[0m \u001b[0;32min\u001b[0m \u001b[0mhandlers\u001b[0m\u001b[0;34m:\u001b[0m\u001b[0;34m\u001b[0m\u001b[0m\n\u001b[0;32m-> 1254\u001b[0;31m         \u001b[0mim\u001b[0m \u001b[0;34m=\u001b[0m \u001b[0mpilread\u001b[0m\u001b[0;34m(\u001b[0m\u001b[0mfname\u001b[0m\u001b[0;34m)\u001b[0m\u001b[0;34m\u001b[0m\u001b[0m\n\u001b[0m\u001b[1;32m   1255\u001b[0m         \u001b[0;32mif\u001b[0m \u001b[0mim\u001b[0m \u001b[0;32mis\u001b[0m \u001b[0mNone\u001b[0m\u001b[0;34m:\u001b[0m\u001b[0;34m\u001b[0m\u001b[0m\n\u001b[1;32m   1256\u001b[0m             raise ValueError('Only know how to handle extensions: %s; '\n",
      "\u001b[0;32m/Users/hn/anaconda/lib/python2.7/site-packages/matplotlib/image.pyc\u001b[0m in \u001b[0;36mpilread\u001b[0;34m(fname)\u001b[0m\n\u001b[1;32m   1231\u001b[0m         \u001b[0;32mif\u001b[0m \u001b[0mcbook\u001b[0m\u001b[0;34m.\u001b[0m\u001b[0mis_string_like\u001b[0m\u001b[0;34m(\u001b[0m\u001b[0mfname\u001b[0m\u001b[0;34m)\u001b[0m\u001b[0;34m:\u001b[0m\u001b[0;34m\u001b[0m\u001b[0m\n\u001b[1;32m   1232\u001b[0m             \u001b[0;31m# force close the file after reading the image\u001b[0m\u001b[0;34m\u001b[0m\u001b[0;34m\u001b[0m\u001b[0m\n\u001b[0;32m-> 1233\u001b[0;31m             \u001b[0;32mwith\u001b[0m \u001b[0mopen\u001b[0m\u001b[0;34m(\u001b[0m\u001b[0mfname\u001b[0m\u001b[0;34m,\u001b[0m \u001b[0;34m\"rb\"\u001b[0m\u001b[0;34m)\u001b[0m \u001b[0;32mas\u001b[0m \u001b[0mfh\u001b[0m\u001b[0;34m:\u001b[0m\u001b[0;34m\u001b[0m\u001b[0m\n\u001b[0m\u001b[1;32m   1234\u001b[0m                 \u001b[0mimage\u001b[0m \u001b[0;34m=\u001b[0m \u001b[0mImage\u001b[0m\u001b[0;34m.\u001b[0m\u001b[0mopen\u001b[0m\u001b[0;34m(\u001b[0m\u001b[0mfh\u001b[0m\u001b[0;34m)\u001b[0m\u001b[0;34m\u001b[0m\u001b[0m\n\u001b[1;32m   1235\u001b[0m                 \u001b[0;32mreturn\u001b[0m \u001b[0mpil_to_array\u001b[0m\u001b[0;34m(\u001b[0m\u001b[0mimage\u001b[0m\u001b[0;34m)\u001b[0m\u001b[0;34m\u001b[0m\u001b[0m\n",
      "\u001b[0;31mIOError\u001b[0m: [Errno 2] No such file or directory: 'p001r012_7dt20010613_z24_10.tif'"
     ]
    }
   ],
   "source": [
    "import matplotlib.pyplot as plt\n",
    "image = plt.imread('p001r012_7dt20010613_z24_10.tif')\n",
    "image"
   ]
  },
  {
   "cell_type": "markdown",
   "metadata": {},
   "source": [
    "Landsat specialized python utility \n",
    "http://landsat-util.readthedocs.org/en/latest/installation.html#ubuntu-14-10\n"
   ]
  },
  {
   "cell_type": "code",
   "execution_count": null,
   "metadata": {
    "collapsed": false
   },
   "outputs": [],
   "source": [
    "# install depencencies \n",
    "!sudo apt-get -y install python-pip python-numpy python-scipy \\\n",
    "libgdal-dev libatlas-base-dev gfortran libfreetype6-dev"
   ]
  },
  {
   "cell_type": "code",
   "execution_count": null,
   "metadata": {
    "collapsed": false,
    "scrolled": true
   },
   "outputs": [],
   "source": [
    "# install utility  ( reccomended at command line, long )\n",
    "!yes | sudo pip install landsat-util"
   ]
  },
  {
   "cell_type": "markdown",
   "metadata": {},
   "source": [
    "Alternate images source \n",
    "https://aws.amazon.com/datasets/ccafs-climate-data/?tag=datasets%23keywords%23climate  \n",
    "6 TB, S3    \n",
    "    "
   ]
  },
  {
   "cell_type": "code",
   "execution_count": 17,
   "metadata": {
    "collapsed": false
   },
   "outputs": [
    {
     "name": "stdout",
     "output_type": "stream",
     "text": [
      "2014-11-10 14:37:38          0 ccafs/ccafs-climate/data/eta/eta_south_america/baseline/1970s/hadcm_high/20min/\r\n",
      "2014-11-10 14:37:38    1992179 ccafs/ccafs-climate/data/eta/eta_south_america/baseline/1970s/hadcm_high/20min/hadcm_high_baseline_1970s_prec_20min_sa_eta_asc.zip\r\n",
      "2014-11-10 14:37:39    1889826 ccafs/ccafs-climate/data/eta/eta_south_america/baseline/1970s/hadcm_high/20min/hadcm_high_baseline_1970s_tmax_20min_sa_eta_asc.zip\r\n",
      "2014-11-10 14:37:40    1886173 ccafs/ccafs-climate/data/eta/eta_south_america/baseline/1970s/hadcm_high/20min/hadcm_high_baseline_1970s_tmean_20min_sa_eta_asc.zip\r\n",
      "2014-11-10 14:37:40    1688460 ccafs/ccafs-climate/data/eta/eta_south_america/baseline/1970s/hadcm_high/20min/hadcm_high_baseline_1970s_tmin_20min_sa_eta_asc.zip\r\n"
     ]
    }
   ],
   "source": [
    "! aws s3 ls s3://cgiardata/ccafs/ccafs-climate/data/eta/eta_south_america/baseline/1970s/hadcm_high/20min/ --recursive"
   ]
  },
  {
   "cell_type": "markdown",
   "metadata": {},
   "source": [
    "### 7. Query Weather API, Store to EBS\n",
    "\n",
    "code adapted from http://stackoverflow.com/questions/12965203/how-to-get-json-from-webpage-into-python-script\n",
    "and https://www.wunderground.com/weather/api/d/docs?MR=1"
   ]
  },
  {
   "cell_type": "code",
   "execution_count": null,
   "metadata": {
    "collapsed": true
   },
   "outputs": [],
   "source": [
    "# create an instance, DS-toolbox ami and XL size\n",
    "!aws ec2 run-instances --image-id ami-d1737bb8 --count 1 --instance-type m3.micro --key-name .boto --security-groups my-sg"
   ]
  },
  {
   "cell_type": "code",
   "execution_count": 10,
   "metadata": {
    "collapsed": false
   },
   "outputs": [
    {
     "name": "stdout",
     "output_type": "stream",
     "text": [
      "{\r\n",
      "    \"StartingInstances\": [\r\n",
      "        {\r\n",
      "            \"InstanceId\": \"i-bb95183f\", \r\n",
      "            \"CurrentState\": {\r\n",
      "                \"Code\": 0, \r\n",
      "                \"Name\": \"pending\"\r\n",
      "            }, \r\n",
      "            \"PreviousState\": {\r\n",
      "                \"Code\": 80, \r\n",
      "                \"Name\": \"stopped\"\r\n",
      "            }\r\n",
      "        }\r\n",
      "    ]\r\n",
      "}\r\n"
     ]
    }
   ],
   "source": [
    "# start instance \n",
    "!aws ec2 start-instances --instance-ids i-bb95183f --region us-east-1 "
   ]
  },
  {
   "cell_type": "code",
   "execution_count": 11,
   "metadata": {
    "collapsed": false,
    "scrolled": true
   },
   "outputs": [
    {
     "name": "stdout",
     "output_type": "stream",
     "text": [
      "{\r\n",
      "    \"Reservations\": [\r\n",
      "        {\r\n",
      "            \"OwnerId\": \"563534492411\", \r\n",
      "            \"ReservationId\": \"r-151696c7\", \r\n",
      "            \"Groups\": [], \r\n",
      "            \"Instances\": [\r\n",
      "                {\r\n",
      "                    \"Monitoring\": {\r\n",
      "                        \"State\": \"disabled\"\r\n",
      "                    }, \r\n",
      "                    \"PublicDnsName\": \"ec2-54-164-234-226.compute-1.amazonaws.com\", \r\n",
      "                    \"RootDeviceType\": \"ebs\", \r\n",
      "                    \"State\": {\r\n",
      "                        \"Code\": 16, \r\n",
      "                        \"Name\": \"running\"\r\n",
      "                    }, \r\n",
      "                    \"EbsOptimized\": false, \r\n",
      "                    \"LaunchTime\": \"2016-03-08T03:46:41.000Z\", \r\n",
      "                    \"PublicIpAddress\": \"54.164.234.226\", \r\n",
      "                    \"PrivateIpAddress\": \"172.31.11.202\", \r\n",
      "                    \"ProductCodes\": [], \r\n",
      "                    \"VpcId\": \"vpc-66511502\", \r\n",
      "                    \"StateTransitionReason\": \"\", \r\n",
      "                    \"InstanceId\": \"i-bb95183f\", \r\n",
      "                    \"ImageId\": \"ami-d1737bb8\", \r\n",
      "                    \"PrivateDnsName\": \"ip-172-31-11-202.ec2.internal\", \r\n",
      "                    \"KeyName\": \".boto\", \r\n",
      "                    \"SecurityGroups\": [\r\n",
      "                        {\r\n",
      "                            \"GroupName\": \"launch-wizard-10\", \r\n",
      "                            \"GroupId\": \"sg-f9af1f81\"\r\n",
      "                        }\r\n",
      "                    ], \r\n",
      "                    \"ClientToken\": \"tVbXa1457291135629\", \r\n",
      "                    \"SubnetId\": \"subnet-4d77dc3b\", \r\n",
      "                    \"InstanceType\": \"t1.micro\", \r\n",
      "                    \"NetworkInterfaces\": [\r\n",
      "                        {\r\n",
      "                            \"Status\": \"in-use\", \r\n",
      "                            \"MacAddress\": \"0a:1d:37:69:ee:ff\", \r\n",
      "                            \"SourceDestCheck\": true, \r\n",
      "                            \"VpcId\": \"vpc-66511502\", \r\n",
      "                            \"Description\": \"\", \r\n",
      "                            \"Association\": {\r\n",
      "                                \"PublicIp\": \"54.164.234.226\", \r\n",
      "                                \"PublicDnsName\": \"ec2-54-164-234-226.compute-1.amazonaws.com\", \r\n",
      "                                \"IpOwnerId\": \"amazon\"\r\n",
      "                            }, \r\n",
      "                            \"NetworkInterfaceId\": \"eni-3d030173\", \r\n",
      "                            \"PrivateIpAddresses\": [\r\n",
      "                                {\r\n",
      "                                    \"PrivateDnsName\": \"ip-172-31-11-202.ec2.internal\", \r\n",
      "                                    \"Association\": {\r\n",
      "                                        \"PublicIp\": \"54.164.234.226\", \r\n",
      "                                        \"PublicDnsName\": \"ec2-54-164-234-226.compute-1.amazonaws.com\", \r\n",
      "                                        \"IpOwnerId\": \"amazon\"\r\n",
      "                                    }, \r\n",
      "                                    \"Primary\": true, \r\n",
      "                                    \"PrivateIpAddress\": \"172.31.11.202\"\r\n",
      "                                }\r\n",
      "                            ], \r\n",
      "                            \"PrivateDnsName\": \"ip-172-31-11-202.ec2.internal\", \r\n",
      "                            \"Attachment\": {\r\n",
      "                                \"Status\": \"attached\", \r\n",
      "                                \"DeviceIndex\": 0, \r\n",
      "                                \"DeleteOnTermination\": true, \r\n",
      "                                \"AttachmentId\": \"eni-attach-386c88c2\", \r\n",
      "                                \"AttachTime\": \"2016-03-06T19:05:36.000Z\"\r\n",
      "                            }, \r\n",
      "                            \"Groups\": [\r\n",
      "                                {\r\n",
      "                                    \"GroupName\": \"launch-wizard-10\", \r\n",
      "                                    \"GroupId\": \"sg-f9af1f81\"\r\n",
      "                                }\r\n",
      "                            ], \r\n",
      "                            \"SubnetId\": \"subnet-4d77dc3b\", \r\n",
      "                            \"OwnerId\": \"563534492411\", \r\n",
      "                            \"PrivateIpAddress\": \"172.31.11.202\"\r\n",
      "                        }\r\n",
      "                    ], \r\n",
      "                    \"SourceDestCheck\": true, \r\n",
      "                    \"Placement\": {\r\n",
      "                        \"Tenancy\": \"default\", \r\n",
      "                        \"GroupName\": \"\", \r\n",
      "                        \"AvailabilityZone\": \"us-east-1c\"\r\n",
      "                    }, \r\n",
      "                    \"Hypervisor\": \"xen\", \r\n",
      "                    \"BlockDeviceMappings\": [\r\n",
      "                        {\r\n",
      "                            \"DeviceName\": \"/dev/sda1\", \r\n",
      "                            \"Ebs\": {\r\n",
      "                                \"Status\": \"attached\", \r\n",
      "                                \"DeleteOnTermination\": true, \r\n",
      "                                \"VolumeId\": \"vol-fe87d657\", \r\n",
      "                                \"AttachTime\": \"2016-03-06T19:05:36.000Z\"\r\n",
      "                            }\r\n",
      "                        }\r\n",
      "                    ], \r\n",
      "                    \"Architecture\": \"x86_64\", \r\n",
      "                    \"KernelId\": \"aki-919dcaf8\", \r\n",
      "                    \"RootDeviceName\": \"/dev/sda1\", \r\n",
      "                    \"VirtualizationType\": \"paravirtual\", \r\n",
      "                    \"Tags\": [\r\n",
      "                        {\r\n",
      "                            \"Value\": \"Streaming Weather Caputure\", \r\n",
      "                            \"Key\": \"Name\"\r\n",
      "                        }\r\n",
      "                    ], \r\n",
      "                    \"AmiLaunchIndex\": 0\r\n",
      "                }\r\n",
      "            ]\r\n",
      "        }\r\n",
      "    ]\r\n",
      "}\r\n"
     ]
    }
   ],
   "source": [
    "# get PublicDnsName\n",
    "!aws ec2 describe-instances --instance-ids i-bb95183f --region us-east-1 "
   ]
  },
  {
   "cell_type": "code",
   "execution_count": null,
   "metadata": {
    "collapsed": true
   },
   "outputs": [],
   "source": [
    "# ssh in (in terminal) \n",
    "ssh -X -i ~/.ssh/aws.pem ubuntu@ec2-54-164-113-126.compute-1.amazonaws.com\n",
    "\n",
    "# new notebook with ip specified\n",
    "jupyter notebook --no-browser --ip=0.0.0.0\n",
    "\n",
    "# grab ip address of instance and navigate to \n",
    "http://52.91.161.73:8888/tree\n",
    "        \n",
    "# move notebook to instance"
   ]
  },
  {
   "cell_type": "markdown",
   "metadata": {},
   "source": [
    "Here we are going to use Docker to quickly get Kafka working \n",
    "https://github.com/tobegit3hub/standalone-kafka"
   ]
  },
  {
   "cell_type": "code",
   "execution_count": null,
   "metadata": {
    "collapsed": false
   },
   "outputs": [],
   "source": [
    "!sudo apt-get install -y docker"
   ]
  },
  {
   "cell_type": "code",
   "execution_count": null,
   "metadata": {
    "collapsed": true
   },
   "outputs": [],
   "source": [
    "! docker run -d --net=host -e HOSTNAME=localhost tobegit3hub/standalone-kafka"
   ]
  },
  {
   "cell_type": "code",
   "execution_count": null,
   "metadata": {
    "collapsed": true
   },
   "outputs": [],
   "source": [
    "! cd kafka"
   ]
  },
  {
   "cell_type": "code",
   "execution_count": null,
   "metadata": {
    "collapsed": true
   },
   "outputs": [],
   "source": [
    "! bin/kafka-topics.sh --create --zookeeper localhost:2181 --replication-factor 1 --partitions 1 --topic weather_stream"
   ]
  },
  {
   "cell_type": "code",
   "execution_count": null,
   "metadata": {
    "collapsed": true
   },
   "outputs": [],
   "source": [
    "# open ports \n",
    "In the Security Group, select Inbound, then Edit, and then Add Rule, the Port Range should be 2181 and the Source is 0.0.0.0/0"
   ]
  },
  {
   "cell_type": "code",
   "execution_count": null,
   "metadata": {
    "collapsed": true
   },
   "outputs": [],
   "source": [
    "! bin/kafka-console-producer.sh --broker-list localhost:9092 --topic weather_stream"
   ]
  },
  {
   "cell_type": "code",
   "execution_count": null,
   "metadata": {
    "collapsed": true
   },
   "outputs": [],
   "source": [
    "! bin/kafka-console-consumer.sh --zookeeper localhost:2181 --topic weather_stream --from-beginning"
   ]
  },
  {
   "cell_type": "code",
   "execution_count": 2,
   "metadata": {
    "collapsed": false,
    "scrolled": true
   },
   "outputs": [
    {
     "name": "stdout",
     "output_type": "stream",
     "text": [
      "{u'current_observation': {u'UV': u'0',\n",
      "                          u'dewpoint_c': 7,\n",
      "                          u'dewpoint_f': 45,\n",
      "                          u'dewpoint_string': u'45 F (7 C)',\n",
      "                          u'display_location': {u'city': u'San Francisco',\n",
      "                                                u'country': u'US',\n",
      "                                                u'country_iso3166': u'US',\n",
      "                                                u'elevation': u'47.00000000',\n",
      "                                                u'full': u'San Francisco, CA',\n",
      "                                                u'latitude': u'37.77500916',\n",
      "                                                u'longitude': u'-122.41825867',\n",
      "                                                u'magic': u'1',\n",
      "                                                u'state': u'CA',\n",
      "                                                u'state_name': u'California',\n",
      "                                                u'wmo': u'99999',\n",
      "                                                u'zip': u'94101'},\n",
      "                          u'estimated': {},\n",
      "                          u'feelslike_c': u'11.9',\n",
      "                          u'feelslike_f': u'53.5',\n",
      "                          u'feelslike_string': u'53.5 F (11.9 C)',\n",
      "                          u'forecast_url': u'http://www.wunderground.com/US/CA/San_Francisco.html',\n",
      "                          u'heat_index_c': u'NA',\n",
      "                          u'heat_index_f': u'NA',\n",
      "                          u'heat_index_string': u'NA',\n",
      "                          u'history_url': u'http://www.wunderground.com/weatherstation/WXDailyHistory.asp?ID=KCASANFR58',\n",
      "                          u'icon': u'mostlycloudy',\n",
      "                          u'icon_url': u'http://icons.wxug.com/i/c/k/nt_mostlycloudy.gif',\n",
      "                          u'image': {u'link': u'http://www.wunderground.com',\n",
      "                                     u'title': u'Weather Underground',\n",
      "                                     u'url': u'http://icons.wxug.com/graphics/wu2/logo_130x80.png'},\n",
      "                          u'local_epoch': u'1457411824',\n",
      "                          u'local_time_rfc822': u'Mon, 07 Mar 2016 20:37:04 -0800',\n",
      "                          u'local_tz_long': u'America/Los_Angeles',\n",
      "                          u'local_tz_offset': u'-0800',\n",
      "                          u'local_tz_short': u'PST',\n",
      "                          u'nowcast': u'',\n",
      "                          u'ob_url': u'http://www.wunderground.com/cgi-bin/findweather/getForecast?query=37.773285,-122.417725',\n",
      "                          u'observation_epoch': u'1457411822',\n",
      "                          u'observation_location': {u'city': u'SOMA - Near Van Ness, San Francisco',\n",
      "                                                    u'country': u'US',\n",
      "                                                    u'country_iso3166': u'US',\n",
      "                                                    u'elevation': u'49 ft',\n",
      "                                                    u'full': u'SOMA - Near Van Ness, San Francisco, California',\n",
      "                                                    u'latitude': u'37.773285',\n",
      "                                                    u'longitude': u'-122.417725',\n",
      "                                                    u'state': u'California'},\n",
      "                          u'observation_time': u'Last Updated on March 7, 8:37 PM PST',\n",
      "                          u'observation_time_rfc822': u'Mon, 07 Mar 2016 20:37:02 -0800',\n",
      "                          u'precip_1hr_in': u'0.00',\n",
      "                          u'precip_1hr_metric': u' 0',\n",
      "                          u'precip_1hr_string': u'0.00 in ( 0 mm)',\n",
      "                          u'precip_today_in': u'0.45',\n",
      "                          u'precip_today_metric': u'11',\n",
      "                          u'precip_today_string': u'0.45 in (11 mm)',\n",
      "                          u'pressure_in': u'29.95',\n",
      "                          u'pressure_mb': u'1014',\n",
      "                          u'pressure_trend': u'+',\n",
      "                          u'relative_humidity': u'73%',\n",
      "                          u'solarradiation': u'--',\n",
      "                          u'station_id': u'KCASANFR58',\n",
      "                          u'temp_c': 11.9,\n",
      "                          u'temp_f': 53.5,\n",
      "                          u'temperature_string': u'53.5 F (11.9 C)',\n",
      "                          u'visibility_km': u'16.1',\n",
      "                          u'visibility_mi': u'10.0',\n",
      "                          u'weather': u'Mostly Cloudy',\n",
      "                          u'wind_degrees': 57,\n",
      "                          u'wind_dir': u'ENE',\n",
      "                          u'wind_gust_kph': u'8.0',\n",
      "                          u'wind_gust_mph': u'5.0',\n",
      "                          u'wind_kph': 0,\n",
      "                          u'wind_mph': 0.0,\n",
      "                          u'wind_string': u'Calm',\n",
      "                          u'windchill_c': u'NA',\n",
      "                          u'windchill_f': u'NA',\n",
      "                          u'windchill_string': u'NA'},\n",
      " u'response': {u'features': {u'conditions': 1},\n",
      "               u'termsofService': u'http://www.wunderground.com/weather/api/d/terms.html',\n",
      "               u'version': u'0.1'}}\n"
     ]
    }
   ],
   "source": [
    "import urllib, json\n",
    "from pprint import pprint\n",
    "\n",
    "url = \"http://api.wunderground.com/api/     api key   /conditions/q/CA/San_Francisco.json\"\n",
    "response = urllib.urlopen(url)\n",
    "data = json.loads(response.read())\n",
    "pprint(data)"
   ]
  },
  {
   "cell_type": "markdown",
   "metadata": {},
   "source": [
    "### 8. Produce a Prediction"
   ]
  },
  {
   "cell_type": "code",
   "execution_count": 19,
   "metadata": {
    "collapsed": false
   },
   "outputs": [
    {
     "data": {
      "text/plain": [
       "array([ 0.88791482])"
      ]
     },
     "execution_count": 19,
     "metadata": {},
     "output_type": "execute_result"
    }
   ],
   "source": [
    "import numpy as np\n",
    "\n",
    "pred = np.random.rand(1)\n",
    "pred"
   ]
  },
  {
   "cell_type": "markdown",
   "metadata": {},
   "source": [
    "### 9. Tag the Image, Send to Team"
   ]
  },
  {
   "cell_type": "code",
   "execution_count": null,
   "metadata": {
    "collapsed": true
   },
   "outputs": [],
   "source": [
    "tagged = zip(pred, image)\n",
    "tagged.write('image_tagged')"
   ]
  },
  {
   "cell_type": "code",
   "execution_count": null,
   "metadata": {
    "collapsed": true
   },
   "outputs": [],
   "source": [
    "! aws s3 cp image_tagged s3://eyewatchone --grants \\\n",
    "    read=uri=http://acs.amazonaws.com/groups/global/AllUsers full=emailaddress=hollisnolan@gmail.com"
   ]
  },
  {
   "cell_type": "markdown",
   "metadata": {},
   "source": [
    "### 10. Clone the Analytics EC2, Scale for Production"
   ]
  },
  {
   "cell_type": "code",
   "execution_count": null,
   "metadata": {
    "collapsed": true
   },
   "outputs": [],
   "source": [
    "# create an AMI from the EC2 analytics image \n",
    "aws ec2 create-image --instance-id i-582bf5dc --name \"eyewatchone-analytics\" --description \\\n",
    "\"AMI for EyeWatchOne's prediction and analytics EC2 XL or higher reccomended.\""
   ]
  },
  {
   "cell_type": "markdown",
   "metadata": {},
   "source": [
    "### 11. Stop the instances"
   ]
  },
  {
   "cell_type": "code",
   "execution_count": 28,
   "metadata": {
    "collapsed": false
   },
   "outputs": [
    {
     "name": "stdout",
     "output_type": "stream",
     "text": [
      "{\r\n",
      "    \"StoppingInstances\": [\r\n",
      "        {\r\n",
      "            \"InstanceId\": \"i-582bf5dc\", \r\n",
      "            \"CurrentState\": {\r\n",
      "                \"Code\": 64, \r\n",
      "                \"Name\": \"stopping\"\r\n",
      "            }, \r\n",
      "            \"PreviousState\": {\r\n",
      "                \"Code\": 16, \r\n",
      "                \"Name\": \"running\"\r\n",
      "            }\r\n",
      "        }\r\n",
      "    ]\r\n",
      "}\r\n"
     ]
    }
   ],
   "source": [
    "# stop analytics instance \n",
    "!aws ec2 stop-instances --instance-id i-582bf5dc --region us-east-1"
   ]
  },
  {
   "cell_type": "code",
   "execution_count": 29,
   "metadata": {
    "collapsed": false
   },
   "outputs": [
    {
     "name": "stdout",
     "output_type": "stream",
     "text": [
      "{\r\n",
      "    \"StoppingInstances\": [\r\n",
      "        {\r\n",
      "            \"InstanceId\": \"i-bb95183f\", \r\n",
      "            \"CurrentState\": {\r\n",
      "                \"Code\": 64, \r\n",
      "                \"Name\": \"stopping\"\r\n",
      "            }, \r\n",
      "            \"PreviousState\": {\r\n",
      "                \"Code\": 16, \r\n",
      "                \"Name\": \"running\"\r\n",
      "            }\r\n",
      "        }\r\n",
      "    ]\r\n",
      "}\r\n"
     ]
    }
   ],
   "source": [
    "# stop streaming instance \n",
    "!aws ec2 stop-instances --instance-id i-bb95183f --region us-east-1"
   ]
  },
  {
   "cell_type": "markdown",
   "metadata": {
    "collapsed": true
   },
   "source": [
    "##### Always double check \n",
    "\n",
    "https://console.aws.amazon.com/ec2/v2/home?region=us-east-1#Instances:sort=instanceId"
   ]
  }
 ],
 "metadata": {
  "kernelspec": {
   "display_name": "Python 2",
   "language": "python",
   "name": "python2"
  },
  "language_info": {
   "codemirror_mode": {
    "name": "ipython",
    "version": 2
   },
   "file_extension": ".py",
   "mimetype": "text/x-python",
   "name": "python",
   "nbconvert_exporter": "python",
   "pygments_lexer": "ipython2",
   "version": "2.7.11"
  }
 },
 "nbformat": 4,
 "nbformat_minor": 0
}
