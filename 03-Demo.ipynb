{
 "cells": [
  {
   "cell_type": "markdown",
   "metadata": {},
   "source": [
    "## EyeWatchOne Engineering Prototype\n",
    "\n",
    "Hyper local weather related accident prediction.\n",
    "\n",
    "Gives a browser/mobile based heatmap overlay on satellite images showing where accidents are predicted to occur given historical accidents and incoming weather.\n",
    "\n",
    "\n",
    "Targeted towards government planning for road emergency services, but can also be used for insurance claims adjustment, logistics companies's route planning, and much more. \n",
    "\n",
    "##### This notebook can be run on windows, osx, linux, any platform with aws-cli installed."
   ]
  },
  {
   "cell_type": "markdown",
   "metadata": {},
   "source": [
    "### 1. Fix errors in AWS command line interface\n",
    "\n",
    "I had an issue with windows not associating .py with my Python install.\n",
    "\n",
    "fix .py file association error\n",
    "http://superuser.com/questions/429604/passing-arguments-to-a-python-script-file-association-not-found-windows-7-on-i"
   ]
  },
  {
   "cell_type": "markdown",
   "metadata": {},
   "source": [
    "### 2. Upload test insurance data to S3 bucket: eyewatchone\n",
    "\n",
    "code adapted from http://boto.cloudhackers.com/en/latest/s3_tut.html\n",
    "\n",
    "Insurance data:  \n",
    "470 MB zipped csv  \n",
    "from https://www.kaggle.com/c/ClaimPredictionChallenge/"
   ]
  },
  {
   "cell_type": "code",
   "execution_count": null,
   "metadata": {
    "collapsed": false
   },
   "outputs": [],
   "source": [
    "! aws s3 cp data/example_compressed_entry.zip s3://eyewatchone --grants \\\n",
    "    read=uri=http://acs.amazonaws.com/groups/global/AllUsers full=emailaddress=hollisnolan@gmail.com"
   ]
  },
  {
   "cell_type": "code",
   "execution_count": null,
   "metadata": {
    "collapsed": false
   },
   "outputs": [],
   "source": [
    "! aws s3 cp data/dictionary.html s3://eyewatchone --grants \\\n",
    "    read=uri=http://acs.amazonaws.com/groups/global/AllUsers full=emailaddress=hollisnolan@gmail.com"
   ]
  },
  {
   "cell_type": "markdown",
   "metadata": {},
   "source": [
    "#### Move the full sets of Insurance Data to S3"
   ]
  },
  {
   "cell_type": "code",
   "execution_count": null,
   "metadata": {
    "collapsed": false
   },
   "outputs": [],
   "source": [
    "! aws s3 cp data/test_set.zip s3://eyewatchone --grants \\\n",
    "    read=uri=http://acs.amazonaws.com/groups/global/AllUsers full=emailaddress=hollisnolan@gmail.com"
   ]
  },
  {
   "cell_type": "code",
   "execution_count": null,
   "metadata": {
    "collapsed": false
   },
   "outputs": [],
   "source": [
    "! aws s3 cp data/train_set.zip s3://eyewatchone --grants \\\n",
    "    read=uri=http://acs.amazonaws.com/groups/global/AllUsers full=emailaddress=hollisnolan@gmail.com"
   ]
  },
  {
   "cell_type": "code",
   "execution_count": null,
   "metadata": {
    "collapsed": false
   },
   "outputs": [],
   "source": [
    "! aws s3 ls s3://eyewatchone"
   ]
  },
  {
   "cell_type": "markdown",
   "metadata": {},
   "source": [
    "### 3. Spin up analytics EC2 instance\n",
    "\n",
    "(right click for paste in windows)\n",
    "\n",
    "Create an image from the Data Science Tookbox ami"
   ]
  },
  {
   "cell_type": "code",
   "execution_count": null,
   "metadata": {
    "collapsed": false
   },
   "outputs": [],
   "source": [
    "# create an instance, DS-toolbox ami and XL size\n",
    "\n",
    "!aws ec2 run-instances --image-id ami-d1737bb8 --count 1 --instance-type m3.xlarge --key-name .boto --security-groups my-sg"
   ]
  },
  {
   "cell_type": "markdown",
   "metadata": {},
   "source": [
    "Historical weather data:  \n",
    "20 GB EBS snapshot  \n",
    "https://aws.amazon.com/datasets/daily-global-weather-measurements-1929-2009-ncdc-gsod/  "
   ]
  },
  {
   "cell_type": "code",
   "execution_count": null,
   "metadata": {
    "collapsed": true
   },
   "outputs": [],
   "source": [
    "# attach EBS historical weather data \n",
    "\n",
    "ec2-attach-volume snap-ac47f4c5 --instance i-582bf5dc --device  /dev/sdf"
   ]
  },
  {
   "cell_type": "markdown",
   "metadata": {},
   "source": [
    "or retstart a stopped instance"
   ]
  },
  {
   "cell_type": "code",
   "execution_count": null,
   "metadata": {
    "collapsed": false
   },
   "outputs": [],
   "source": [
    "# restart a stopped instance \n",
    "\n",
    "!aws ec2 start-instances --instance-ids i-582bf5dc --region us-east-1"
   ]
  },
  {
   "cell_type": "code",
   "execution_count": null,
   "metadata": {
    "collapsed": true
   },
   "outputs": [],
   "source": [
    "# get PublicDnsName and IP\n",
    "!aws ec2 describe-instances --instance-ids i-582bf5dc --region us-east-1 "
   ]
  },
  {
   "cell_type": "markdown",
   "metadata": {},
   "source": [
    "Ssh into the instance and start a notebook"
   ]
  },
  {
   "cell_type": "code",
   "execution_count": null,
   "metadata": {
    "collapsed": true
   },
   "outputs": [],
   "source": [
    "# ssh in (in terminal) \n",
    "ssh -X -i ~/.ssh/aws.pem ubuntu@ec2-54-88-161-196.compute-1.amazonaws.com\n",
    "\n",
    "# update \n",
    "sudo apt-get update && sudo apt-get upgrade\n",
    "\n",
    "### super update (in terminal, very long)\n",
    "sudo do-release-upgrade\n",
    "\n",
    "# update pip \n",
    "sudo pip install pip --upgrade\n",
    "\n",
    "# install notebook\n",
    "sudo pip install --upgrade \"ipython[notebook]\"\n",
    "\n",
    "# open ports \n",
    "In the Security Group, select Inbound, then Edit, and then Add Rule. The Port Range should be 8888 and the Sourceis 0.0.0.0/0\n",
    "\n",
    "# start tmux \n",
    "tmux new -s notebook\n",
    "\n",
    "# new notebook with ip specified\n",
    "jupyter notebook --no-browser --ip=0.0.0.0\n",
    "\n",
    "# grab ip address of instance and navigate to \n",
    "http://54.88.161.196:8888/tree\n",
    "        \n",
    "# save this notebook, close it locally, and use the \"upload\" button to move it into the aws instance\n",
    "# rerun notebook from there"
   ]
  },
  {
   "cell_type": "code",
   "execution_count": null,
   "metadata": {
    "collapsed": false
   },
   "outputs": [],
   "source": [
    "! scp -i /users/hn/.ssh/aws.pem 09-Demo.ipynb ubuntu@ec2-54-88-161-196.compute-1.amazonaws.com:~"
   ]
  },
  {
   "cell_type": "markdown",
   "metadata": {
    "collapsed": true
   },
   "source": [
    "### 4. Check historical weather in EBS public data set\n",
    "\n",
    "how to \n",
    "http://docs.aws.amazon.com/AWSEC2/latest/UserGuide/ebs-attaching-volume.html\n",
    "\n",
    "public weather\n",
    "https://aws.amazon.com/datasets/daily-global-weather-measurements-1929-2009-ncdc-gsod/"
   ]
  },
  {
   "cell_type": "code",
   "execution_count": null,
   "metadata": {
    "collapsed": false
   },
   "outputs": [],
   "source": [
    "! pwd"
   ]
  },
  {
   "cell_type": "markdown",
   "metadata": {},
   "source": [
    "List disks "
   ]
  },
  {
   "cell_type": "code",
   "execution_count": null,
   "metadata": {
    "collapsed": false
   },
   "outputs": [],
   "source": [
    "! lsblk"
   ]
  },
  {
   "cell_type": "markdown",
   "metadata": {},
   "source": [
    "mount disk \n",
    "(help from)\n",
    "https://help.ubuntu.com/community/InstallingANewHardDrive"
   ]
  },
  {
   "cell_type": "code",
   "execution_count": null,
   "metadata": {
    "collapsed": true
   },
   "outputs": [],
   "source": [
    "!sudo mount /dev/xvdf /hist_weather/"
   ]
  },
  {
   "cell_type": "code",
   "execution_count": null,
   "metadata": {
    "collapsed": false,
    "scrolled": true
   },
   "outputs": [],
   "source": [
    "# install aws command line interface \n",
    "!sudo pip install awscli --upgrade"
   ]
  },
  {
   "cell_type": "code",
   "execution_count": null,
   "metadata": {
    "collapsed": false
   },
   "outputs": [],
   "source": [
    "# add credentials (in command line, not notebook)\n",
    "!aws configure "
   ]
  },
  {
   "cell_type": "markdown",
   "metadata": {},
   "source": [
    "###  5. Move historical insurance to EBS"
   ]
  },
  {
   "cell_type": "code",
   "execution_count": null,
   "metadata": {
    "collapsed": false
   },
   "outputs": [],
   "source": [
    "!aws s3 ls s3://eyewatchone"
   ]
  },
  {
   "cell_type": "code",
   "execution_count": null,
   "metadata": {
    "collapsed": false
   },
   "outputs": [],
   "source": [
    "# make a directory for analytics \n",
    "!sudo mkdir eyewatchone"
   ]
  },
  {
   "cell_type": "code",
   "execution_count": null,
   "metadata": {
    "collapsed": false
   },
   "outputs": [],
   "source": [
    "# copy files from s3\n",
    "!sudo aws s3 cp s3://eyewatchone/example_compressed_entry.zip eyewatchone/"
   ]
  },
  {
   "cell_type": "code",
   "execution_count": null,
   "metadata": {
    "collapsed": false
   },
   "outputs": [],
   "source": [
    "# unzip\n",
    "!sudo unzip eyewatchone/example_compressed_entry.zip"
   ]
  },
  {
   "cell_type": "markdown",
   "metadata": {},
   "source": [
    "###  6. Move a sample image to EC2 analytics instance \n",
    "\n",
    "Histoical satellite images:  \n",
    "very very large, S3  \n",
    "1 GB / image, updated daily \n",
    "\n",
    "Commands to explore files, what PRE means \n",
    "http://docs.aws.amazon.com/cli/latest/reference/s3/ls.html"
   ]
  },
  {
   "cell_type": "code",
   "execution_count": null,
   "metadata": {
    "collapsed": false
   },
   "outputs": [],
   "source": [
    "! pwd"
   ]
  },
  {
   "cell_type": "code",
   "execution_count": null,
   "metadata": {
    "collapsed": false
   },
   "outputs": [],
   "source": [
    "! "
   ]
  },
  {
   "cell_type": "code",
   "execution_count": null,
   "metadata": {
    "collapsed": false
   },
   "outputs": [],
   "source": [
    "!aws s3 ls s3://nasanex/Landsat/gls/2000/001/012 --recursive "
   ]
  },
  {
   "cell_type": "code",
   "execution_count": null,
   "metadata": {
    "collapsed": false
   },
   "outputs": [],
   "source": [
    "!aws s3 cp s3://nasanex/Landsat/gls/2000/001/012/p001r012_7x20010613.tar.gz ."
   ]
  },
  {
   "cell_type": "code",
   "execution_count": null,
   "metadata": {
    "collapsed": false
   },
   "outputs": [],
   "source": [
    "! tar -xvzf p001r012_7x20010613.tar.gz"
   ]
  },
  {
   "cell_type": "code",
   "execution_count": null,
   "metadata": {
    "collapsed": false
   },
   "outputs": [],
   "source": [
    "! rm p001r012_7x20010613.tar.gz"
   ]
  },
  {
   "cell_type": "code",
   "execution_count": null,
   "metadata": {
    "collapsed": false
   },
   "outputs": [],
   "source": [
    "import matplotlib.pyplot as plt\n",
    "image = plt.imread('p001r012_7dt20010613_z24_10.tif')\n",
    "image"
   ]
  },
  {
   "cell_type": "markdown",
   "metadata": {},
   "source": [
    "Landsat specialized python utility \n",
    "http://landsat-util.readthedocs.org/en/latest/installation.html#ubuntu-14-10\n"
   ]
  },
  {
   "cell_type": "code",
   "execution_count": null,
   "metadata": {
    "collapsed": false
   },
   "outputs": [],
   "source": [
    "# install depencencies \n",
    "!sudo apt-get -y install python-pip python-numpy python-scipy \\\n",
    "libgdal-dev libatlas-base-dev gfortran libfreetype6-dev"
   ]
  },
  {
   "cell_type": "code",
   "execution_count": null,
   "metadata": {
    "collapsed": false,
    "scrolled": true
   },
   "outputs": [],
   "source": [
    "# install utility  ( reccomended at command line, long )\n",
    "!yes | sudo pip install landsat-util"
   ]
  },
  {
   "cell_type": "markdown",
   "metadata": {},
   "source": [
    "Alternate images source \n",
    "https://aws.amazon.com/datasets/ccafs-climate-data/?tag=datasets%23keywords%23climate  \n",
    "6 TB, S3    \n",
    "    "
   ]
  },
  {
   "cell_type": "code",
   "execution_count": null,
   "metadata": {
    "collapsed": false
   },
   "outputs": [],
   "source": [
    "! aws s3 ls s3://cgiardata/ccafs/ccafs-climate/data/eta/eta_south_america/baseline/1970s/hadcm_high/20min/ --recursive"
   ]
  },
  {
   "cell_type": "markdown",
   "metadata": {},
   "source": [
    "### 7. Query Weather API, Store to EBS\n",
    "\n",
    "code adapted from http://stackoverflow.com/questions/12965203/how-to-get-json-from-webpage-into-python-script\n",
    "and https://www.wunderground.com/weather/api/d/docs?MR=1"
   ]
  },
  {
   "cell_type": "code",
   "execution_count": null,
   "metadata": {
    "collapsed": true
   },
   "outputs": [],
   "source": [
    "# create an instance, DS-toolbox ami and XL size\n",
    "!aws ec2 run-instances --image-id ami-d1737bb8 --count 1 --instance-type m3.micro --key-name .boto --security-groups my-sg"
   ]
  },
  {
   "cell_type": "code",
   "execution_count": null,
   "metadata": {
    "collapsed": false
   },
   "outputs": [],
   "source": [
    "# start instance \n",
    "!aws ec2 start-instances --instance-ids i-bb95183f --region us-east-1 "
   ]
  },
  {
   "cell_type": "code",
   "execution_count": null,
   "metadata": {
    "collapsed": false,
    "scrolled": true
   },
   "outputs": [],
   "source": [
    "# get PublicDnsName\n",
    "!aws ec2 describe-instances --instance-ids i-bb95183f --region us-east-1 "
   ]
  },
  {
   "cell_type": "code",
   "execution_count": null,
   "metadata": {
    "collapsed": true
   },
   "outputs": [],
   "source": [
    "# ssh in (in terminal) \n",
    "ssh -X -i ~/.ssh/aws.pem ubuntu@ec2-54-164-113-126.compute-1.amazonaws.com\n",
    "\n",
    "# new notebook with ip specified\n",
    "jupyter notebook --no-browser --ip=0.0.0.0\n",
    "\n",
    "# grab ip address of instance and navigate to \n",
    "http://52.91.161.73:8888/tree\n",
    "        \n",
    "# move notebook to instance"
   ]
  },
  {
   "cell_type": "markdown",
   "metadata": {},
   "source": [
    "Here we are going to use Docker to quickly get Kafka working \n",
    "https://github.com/tobegit3hub/standalone-kafka"
   ]
  },
  {
   "cell_type": "code",
   "execution_count": null,
   "metadata": {
    "collapsed": false
   },
   "outputs": [],
   "source": [
    "!sudo apt-get install -y docker"
   ]
  },
  {
   "cell_type": "code",
   "execution_count": null,
   "metadata": {
    "collapsed": true
   },
   "outputs": [],
   "source": [
    "! docker run -d --net=host -e HOSTNAME=localhost tobegit3hub/standalone-kafka"
   ]
  },
  {
   "cell_type": "code",
   "execution_count": null,
   "metadata": {
    "collapsed": true
   },
   "outputs": [],
   "source": [
    "! cd kafka"
   ]
  },
  {
   "cell_type": "code",
   "execution_count": null,
   "metadata": {
    "collapsed": true
   },
   "outputs": [],
   "source": [
    "! bin/kafka-topics.sh --create --zookeeper localhost:2181 --replication-factor 1 --partitions 1 --topic weather_stream"
   ]
  },
  {
   "cell_type": "code",
   "execution_count": null,
   "metadata": {
    "collapsed": true
   },
   "outputs": [],
   "source": [
    "# open ports \n",
    "In the Security Group, select Inbound, then Edit, and then Add Rule, the Port Range should be 2181 and the Source is 0.0.0.0/0"
   ]
  },
  {
   "cell_type": "code",
   "execution_count": null,
   "metadata": {
    "collapsed": true
   },
   "outputs": [],
   "source": [
    "! bin/kafka-console-producer.sh --broker-list localhost:9092 --topic weather_stream"
   ]
  },
  {
   "cell_type": "code",
   "execution_count": null,
   "metadata": {
    "collapsed": true
   },
   "outputs": [],
   "source": [
    "! bin/kafka-console-consumer.sh --zookeeper localhost:2181 --topic weather_stream --from-beginning"
   ]
  },
  {
   "cell_type": "code",
   "execution_count": null,
   "metadata": {
    "collapsed": false,
    "scrolled": true
   },
   "outputs": [],
   "source": [
    "import urllib, json\n",
    "from pprint import pprint\n",
    "\n",
    "url = \"http://api.wunderground.com/api/  api key   /conditions/q/CA/San_Francisco.json\"\n",
    "response = urllib.urlopen(url)\n",
    "data = json.loads(response.read())\n",
    "pprint(data)"
   ]
  },
  {
   "cell_type": "markdown",
   "metadata": {},
   "source": [
    "### 8. Produce a Prediction"
   ]
  },
  {
   "cell_type": "code",
   "execution_count": null,
   "metadata": {
    "collapsed": false
   },
   "outputs": [],
   "source": [
    "import numpy as np\n",
    "\n",
    "pred = np.random.rand(1)\n",
    "pred"
   ]
  },
  {
   "cell_type": "markdown",
   "metadata": {},
   "source": [
    "### 9. Tag the Image, Send to Team"
   ]
  },
  {
   "cell_type": "code",
   "execution_count": null,
   "metadata": {
    "collapsed": true
   },
   "outputs": [],
   "source": [
    "tagged = zip(pred, image)\n",
    "tagged.write('image_tagged')"
   ]
  },
  {
   "cell_type": "code",
   "execution_count": null,
   "metadata": {
    "collapsed": true
   },
   "outputs": [],
   "source": [
    "! aws s3 cp image_tagged s3://eyewatchone --grants \\\n",
    "    read=uri=http://acs.amazonaws.com/groups/global/AllUsers full=emailaddress=hollisnolan@gmail.com"
   ]
  },
  {
   "cell_type": "markdown",
   "metadata": {},
   "source": [
    "### 10. Clone the Analytics EC2, Scale for Production"
   ]
  },
  {
   "cell_type": "code",
   "execution_count": null,
   "metadata": {
    "collapsed": true
   },
   "outputs": [],
   "source": [
    "# create an AMI from the EC2 analytics image \n",
    "aws ec2 create-image --instance-id i-582bf5dc --name \"eyewatchone-analytics\" --description \\\n",
    "\"AMI for EyeWatchOne's prediction and analytics EC2 XL or higher reccomended.\""
   ]
  },
  {
   "cell_type": "markdown",
   "metadata": {},
   "source": [
    "### 11. Stop the instances"
   ]
  },
  {
   "cell_type": "code",
   "execution_count": null,
   "metadata": {
    "collapsed": false
   },
   "outputs": [],
   "source": [
    "# stop analytics instance \n",
    "!aws ec2 stop-instances --instance-id i-582bf5dc --region us-east-1"
   ]
  },
  {
   "cell_type": "code",
   "execution_count": null,
   "metadata": {
    "collapsed": false
   },
   "outputs": [],
   "source": [
    "# stop streaming instance \n",
    "!aws ec2 stop-instances --instance-id i-bb95183f --region us-east-1"
   ]
  },
  {
   "cell_type": "markdown",
   "metadata": {
    "collapsed": true
   },
   "source": [
    "##### Always double check \n",
    "\n",
    "https://console.aws.amazon.com/ec2/v2/home?region=us-east-1#Instances:sort=instanceId"
   ]
  }
 ],
 "metadata": {
  "kernelspec": {
   "display_name": "Python 2",
   "language": "python",
   "name": "python2"
  },
  "language_info": {
   "codemirror_mode": {
    "name": "ipython",
    "version": 2
   },
   "file_extension": ".py",
   "mimetype": "text/x-python",
   "name": "python",
   "nbconvert_exporter": "python",
   "pygments_lexer": "ipython2",
   "version": "2.7.11"
  }
 },
 "nbformat": 4,
 "nbformat_minor": 0
}
