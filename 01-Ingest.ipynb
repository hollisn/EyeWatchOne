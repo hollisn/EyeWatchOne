{
 "cells": [
  {
   "cell_type": "markdown",
   "metadata": {},
   "source": [
    "## EyeWatchOne Engineering Prototype\n",
    "\n",
    "Hyper local weather related accident prediction.\n",
    "\n",
    "Gives a browser/mobile based heatmap overlay on satellite images showing where accidents are predicted to occur given historical accidents and incoming weather.\n",
    "\n",
    "\n",
    "Targeted towards government planning for road emergency services, but can also be used for insurance claims adjustment, logistics companies's route planning, and much more. \n",
    "\n",
    "\n",
    "### Move Historical Insurance Data to S3\n",
    "\n",
    "code adapted from \n",
    "http://boto.cloudhackers.com/en/latest/s3_tut.html\n",
    "\n",
    "fix .py file association error\n",
    "http://superuser.com/questions/429604/passing-arguments-to-a-python-script-file-association-not-found-windows-7-on-i"
   ]
  },
  {
   "cell_type": "code",
   "execution_count": 10,
   "metadata": {
    "collapsed": false
   },
   "outputs": [
    {
     "data": {
      "text/plain": [
       "'C:\\\\Users\\\\HN\\\\Anaconda2'"
      ]
     },
     "execution_count": 10,
     "metadata": {},
     "output_type": "execute_result"
    }
   ],
   "source": [
    "import os\n",
    "import sys\n",
    "os.path.dirname(sys.executable)"
   ]
  },
  {
   "cell_type": "code",
   "execution_count": 11,
   "metadata": {
    "collapsed": false
   },
   "outputs": [
    {
     "name": "stdout",
     "output_type": "stream",
     "text": [
      "2016-02-27 14:52:54 eyewatchone\n"
     ]
    }
   ],
   "source": [
    "! aws s3 ls"
   ]
  },
  {
   "cell_type": "markdown",
   "metadata": {},
   "source": [
    "### Upload test entry to S3 bucket: eyewatchone"
   ]
  },
  {
   "cell_type": "code",
   "execution_count": 29,
   "metadata": {
    "collapsed": false
   },
   "outputs": [
    {
     "name": "stdout",
     "output_type": "stream",
     "text": [
      "upload: data/example_compressed_entry.zip to s3://eyewatchone/example_compressed_entry.zip\r\n"
     ]
    }
   ],
   "source": [
    "! aws s3 cp data/example_compressed_entry.zip s3://eyewatchone --grants read=uri=http://acs.amazonaws.com/groups/global/AllUsers full=emailaddress=hollisnolan@gmail.com"
   ]
  },
  {
   "cell_type": "code",
   "execution_count": 32,
   "metadata": {
    "collapsed": false
   },
   "outputs": [
    {
     "name": "stdout",
     "output_type": "stream",
     "text": [
      "upload: data/dictionary.html to s3://eyewatchone/dictionary.html\r\n"
     ]
    }
   ],
   "source": [
    "! aws s3 cp data/dictionary.html s3://eyewatchone --grants read=uri=http://acs.amazonaws.com/groups/global/AllUsers full=emailaddress=hollisnolan@gmail.com"
   ]
  },
  {
   "cell_type": "code",
   "execution_count": 6,
   "metadata": {
    "collapsed": false
   },
   "outputs": [
    {
     "name": "stdout",
     "output_type": "stream",
     "text": [
      "upload: data/test_set.zip to s3://eyewatchone/test_set.zip\n"
     ]
    }
   ],
   "source": [
    "! aws s3 cp data/test_set.zip s3://eyewatchone --grants read=uri=http://acs.amazonaws.com/groups/global/AllUsers full=emailaddress=hollisnolan@gmail.com"
   ]
  },
  {
   "cell_type": "code",
   "execution_count": 7,
   "metadata": {
    "collapsed": false
   },
   "outputs": [
    {
     "name": "stdout",
     "output_type": "stream",
     "text": [
      "upload: data/train_set.zip to s3://eyewatchone/train_set.zip\n"
     ]
    }
   ],
   "source": [
    "! aws s3 cp data/train_set.zip s3://eyewatchone --grants read=uri=http://acs.amazonaws.com/groups/global/AllUsers full=emailaddress=hollisnolan@gmail.com"
   ]
  },
  {
   "cell_type": "code",
   "execution_count": 12,
   "metadata": {
    "collapsed": false
   },
   "outputs": [
    {
     "name": "stdout",
     "output_type": "stream",
     "text": [
      "2016-02-27 18:34:54      24768 dictionary.html\n",
      "2016-02-27 18:27:26    5120252 example_compressed_entry.zip\n",
      "2016-02-27 20:29:50  138124104 test_set.zip\n",
      "2016-02-27 20:31:27  380553491 train_set.zip\n"
     ]
    }
   ],
   "source": [
    "! aws s3 ls s3://eyewatchone"
   ]
  },
  {
   "cell_type": "markdown",
   "metadata": {},
   "source": [
    "### Spin up analytics EC2 instance\n",
    "\n",
    "(right click for paste in windows)"
   ]
  },
  {
   "cell_type": "code",
   "execution_count": null,
   "metadata": {
    "collapsed": true
   },
   "outputs": [],
   "source": [
    "# create an instance, DS-toolbox ami and XL size\n",
    "\n",
    "!aws ec2 run-instances --image-id ami-d1737bb8 --count 1 --instance-type m3.xlarge --key-name .boto --security-groups my-sg"
   ]
  },
  {
   "cell_type": "code",
   "execution_count": null,
   "metadata": {
    "collapsed": true
   },
   "outputs": [],
   "source": [
    "ec2-attach-volume snap-ac47f4c5 --instance i-582bf5dc --device  /dev/sdf"
   ]
  },
  {
   "cell_type": "code",
   "execution_count": null,
   "metadata": {
    "collapsed": true
   },
   "outputs": [],
   "source": [
    "# ssh in (in terminal) \n",
    "ssh -X -i ~/.ssh/aws.pem ubuntu@ec2-52-90-250-206.compute-1.amazonaws.com\n",
    "\n",
    "# update \n",
    "sudo apt-get update && sudo apt-get upgrade\n",
    "\n",
    "# update pip \n",
    "sudo pip install pip --upgrade\n",
    "\n",
    "# install notebook\n",
    "sudo pip install --upgrade \"ipython[notebook]\"\n",
    "\n",
    "# open ports \n",
    "In the Security Group, select Inbound, then Edit, and then Add Rule. The Port Range should be 8888 and the Sourceis 0.0.0.0/0\n",
    "\n",
    "# start tmux \n",
    "tmux new -s notebook\n",
    "\n",
    "# new notebook with ip specified\n",
    "jupyter notebook --no-browser --ip=0.0.0.0\n",
    "\n",
    "# grab ip address of instance and navigate to \n",
    "http://52.90.250.206:8888/tree\n",
    "        \n",
    "# save this notebook, close it locally, and use the \"upload\" button to move it into the aws instance\n",
    "# rerun notebook from there"
   ]
  },
  {
   "cell_type": "code",
   "execution_count": 17,
   "metadata": {
    "collapsed": false
   },
   "outputs": [
    {
     "name": "stdout",
     "output_type": "stream",
     "text": [
      "{\n",
      "    \"StartingInstances\": [\n",
      "        {\n",
      "            \"InstanceId\": \"i-582bf5dc\", \n",
      "            \"CurrentState\": {\n",
      "                \"Code\": 0, \n",
      "                \"Name\": \"pending\"\n",
      "            }, \n",
      "            \"PreviousState\": {\n",
      "                \"Code\": 80, \n",
      "                \"Name\": \"stopped\"\n",
      "            }\n",
      "        }\n",
      "    ]\n",
      "}\n"
     ]
    }
   ],
   "source": [
    "# restart a stopped instance \n",
    "\n",
    "!aws ec2 start-instances --instance-ids i-582bf5dc --region us-east-1"
   ]
  },
  {
   "cell_type": "markdown",
   "metadata": {
    "collapsed": true
   },
   "source": [
    "### Check historical weather in EBS public data set\n",
    "\n",
    "how to \n",
    "http://docs.aws.amazon.com/AWSEC2/latest/UserGuide/ebs-attaching-volume.html\n",
    "\n",
    "public weather\n",
    "https://aws.amazon.com/datasets/daily-global-weather-measurements-1929-2009-ncdc-gsod/"
   ]
  },
  {
   "cell_type": "markdown",
   "metadata": {},
   "source": [
    "List disks "
   ]
  },
  {
   "cell_type": "code",
   "execution_count": null,
   "metadata": {
    "collapsed": true
   },
   "outputs": [],
   "source": [
    "lsblk"
   ]
  },
  {
   "cell_type": "markdown",
   "metadata": {},
   "source": [
    "mount disk \n",
    "(help from)\n",
    "https://help.ubuntu.com/community/InstallingANewHardDrive"
   ]
  },
  {
   "cell_type": "code",
   "execution_count": null,
   "metadata": {
    "collapsed": true
   },
   "outputs": [],
   "source": [
    "sudo mount /dev/xvdf /hist_weather/"
   ]
  },
  {
   "cell_type": "code",
   "execution_count": null,
   "metadata": {
    "collapsed": true
   },
   "outputs": [],
   "source": [
    "sudo pip install awscli"
   ]
  },
  {
   "cell_type": "code",
   "execution_count": null,
   "metadata": {
    "collapsed": true
   },
   "outputs": [],
   "source": [
    "aws configure "
   ]
  },
  {
   "cell_type": "markdown",
   "metadata": {},
   "source": [
    "###  Move historical insurance to EBS"
   ]
  },
  {
   "cell_type": "code",
   "execution_count": null,
   "metadata": {
    "collapsed": true
   },
   "outputs": [],
   "source": [
    "aws s3 ls s3://eyewatchone"
   ]
  },
  {
   "cell_type": "code",
   "execution_count": null,
   "metadata": {
    "collapsed": true
   },
   "outputs": [],
   "source": [
    "sudo mkdir hist_insurance"
   ]
  },
  {
   "cell_type": "code",
   "execution_count": null,
   "metadata": {
    "collapsed": true
   },
   "outputs": [],
   "source": [
    "sudo aws s3 cp s3://eyewatchone/example_compressed_entry.zip hist_insurance/"
   ]
  },
  {
   "cell_type": "code",
   "execution_count": null,
   "metadata": {
    "collapsed": true
   },
   "outputs": [],
   "source": [
    "# mistake, should be \n",
    "sudo aws s3 cp s3://eyewatchone/example_compressed_entry.zip analytics_ebs/"
   ]
  },
  {
   "cell_type": "code",
   "execution_count": null,
   "metadata": {
    "collapsed": true
   },
   "outputs": [],
   "source": [
    "sudo unzip hist_insurance/example_compressed_entry.zip"
   ]
  },
  {
   "cell_type": "markdown",
   "metadata": {},
   "source": [
    "###  Move a sample image to EBS"
   ]
  },
  {
   "cell_type": "code",
   "execution_count": null,
   "metadata": {
    "collapsed": true
   },
   "outputs": [],
   "source": [
    "aws s3 ls s3://nasanex/Landsat"
   ]
  },
  {
   "cell_type": "code",
   "execution_count": null,
   "metadata": {
    "collapsed": true
   },
   "outputs": [],
   "source": []
  },
  {
   "cell_type": "code",
   "execution_count": null,
   "metadata": {
    "collapsed": true
   },
   "outputs": [],
   "source": []
  },
  {
   "cell_type": "markdown",
   "metadata": {},
   "source": [
    "### Query Weather API, Store to EBS\n",
    "\n",
    "code adapted from http://stackoverflow.com/questions/12965203/how-to-get-json-from-webpage-into-python-script\n",
    "and https://www.wunderground.com/weather/api/d/docs?MR=1"
   ]
  },
  {
   "cell_type": "code",
   "execution_count": 8,
   "metadata": {
    "collapsed": false
   },
   "outputs": [
    {
     "name": "stdout",
     "output_type": "stream",
     "text": [
      "{u'current_observation': {u'UV': u'4',\n",
      "                          u'dewpoint_c': 10,\n",
      "                          u'dewpoint_f': 50,\n",
      "                          u'dewpoint_string': u'50 F (10 C)',\n",
      "                          u'display_location': {u'city': u'San Francisco',\n",
      "                                                u'country': u'US',\n",
      "                                                u'country_iso3166': u'US',\n",
      "                                                u'elevation': u'47.00000000',\n",
      "                                                u'full': u'San Francisco, CA',\n",
      "                                                u'latitude': u'37.77500916',\n",
      "                                                u'longitude': u'-122.41825867',\n",
      "                                                u'magic': u'1',\n",
      "                                                u'state': u'CA',\n",
      "                                                u'state_name': u'California',\n",
      "                                                u'wmo': u'99999',\n",
      "                                                u'zip': u'94101'},\n",
      "                          u'estimated': {},\n",
      "                          u'feelslike_c': u'14.1',\n",
      "                          u'feelslike_f': u'57.3',\n",
      "                          u'feelslike_string': u'57.3 F (14.1 C)',\n",
      "                          u'forecast_url': u'http://www.wunderground.com/US/CA/San_Francisco.html',\n",
      "                          u'heat_index_c': u'NA',\n",
      "                          u'heat_index_f': u'NA',\n",
      "                          u'heat_index_string': u'NA',\n",
      "                          u'history_url': u'http://www.wunderground.com/weatherstation/WXDailyHistory.asp?ID=KCASANFR58',\n",
      "                          u'icon': u'cloudy',\n",
      "                          u'icon_url': u'http://icons.wxug.com/i/c/k/cloudy.gif',\n",
      "                          u'image': {u'link': u'http://www.wunderground.com',\n",
      "                                     u'title': u'Weather Underground',\n",
      "                                     u'url': u'http://icons.wxug.com/graphics/wu2/logo_130x80.png'},\n",
      "                          u'local_epoch': u'1457296215',\n",
      "                          u'local_time_rfc822': u'Sun, 06 Mar 2016 12:30:15 -0800',\n",
      "                          u'local_tz_long': u'America/Los_Angeles',\n",
      "                          u'local_tz_offset': u'-0800',\n",
      "                          u'local_tz_short': u'PST',\n",
      "                          u'nowcast': u'',\n",
      "                          u'ob_url': u'http://www.wunderground.com/cgi-bin/findweather/getForecast?query=37.773285,-122.417725',\n",
      "                          u'observation_epoch': u'1457296205',\n",
      "                          u'observation_location': {u'city': u'SOMA - Near Van Ness, San Francisco',\n",
      "                                                    u'country': u'US',\n",
      "                                                    u'country_iso3166': u'US',\n",
      "                                                    u'elevation': u'49 ft',\n",
      "                                                    u'full': u'SOMA - Near Van Ness, San Francisco, California',\n",
      "                                                    u'latitude': u'37.773285',\n",
      "                                                    u'longitude': u'-122.417725',\n",
      "                                                    u'state': u'California'},\n",
      "                          u'observation_time': u'Last Updated on March 6, 12:30 PM PST',\n",
      "                          u'observation_time_rfc822': u'Sun, 06 Mar 2016 12:30:05 -0800',\n",
      "                          u'precip_1hr_in': u'0.00',\n",
      "                          u'precip_1hr_metric': u' 0',\n",
      "                          u'precip_1hr_string': u'0.00 in ( 0 mm)',\n",
      "                          u'precip_today_in': u'0.02',\n",
      "                          u'precip_today_metric': u'1',\n",
      "                          u'precip_today_string': u'0.02 in (1 mm)',\n",
      "                          u'pressure_in': u'30.02',\n",
      "                          u'pressure_mb': u'1017',\n",
      "                          u'pressure_trend': u'+',\n",
      "                          u'relative_humidity': u'76%',\n",
      "                          u'solarradiation': u'--',\n",
      "                          u'station_id': u'KCASANFR58',\n",
      "                          u'temp_c': 14.1,\n",
      "                          u'temp_f': 57.3,\n",
      "                          u'temperature_string': u'57.3 F (14.1 C)',\n",
      "                          u'visibility_km': u'16.1',\n",
      "                          u'visibility_mi': u'10.0',\n",
      "                          u'weather': u'Overcast',\n",
      "                          u'wind_degrees': 210,\n",
      "                          u'wind_dir': u'SSW',\n",
      "                          u'wind_gust_kph': u'20.9',\n",
      "                          u'wind_gust_mph': u'13.0',\n",
      "                          u'wind_kph': 8.0,\n",
      "                          u'wind_mph': 5.0,\n",
      "                          u'wind_string': u'From the SSW at 5.0 MPH Gusting to 13.0 MPH',\n",
      "                          u'windchill_c': u'NA',\n",
      "                          u'windchill_f': u'NA',\n",
      "                          u'windchill_string': u'NA'},\n",
      " u'response': {u'features': {u'conditions': 1},\n",
      "               u'termsofService': u'http://www.wunderground.com/weather/api/d/terms.html',\n",
      "               u'version': u'0.1'}}\n"
     ]
    }
   ],
   "source": [
    "import urllib, json\n",
    "from pprint import pprint\n",
    "\n",
    "url = \"http://api.wunderground.com/api/      api-key       /conditions/q/CA/San_Francisco.json\"\n",
    "response = urllib.urlopen(url)\n",
    "data = json.loads(response.read())\n",
    "pprint(data)"
   ]
  },
  {
   "cell_type": "code",
   "execution_count": null,
   "metadata": {
    "collapsed": true
   },
   "outputs": [],
   "source": [
    "\n"
   ]
  },
  {
   "cell_type": "code",
   "execution_count": null,
   "metadata": {
    "collapsed": true
   },
   "outputs": [],
   "source": []
  },
  {
   "cell_type": "markdown",
   "metadata": {},
   "source": [
    "Store to EBS"
   ]
  },
  {
   "cell_type": "code",
   "execution_count": null,
   "metadata": {
    "collapsed": true
   },
   "outputs": [],
   "source": []
  },
  {
   "cell_type": "markdown",
   "metadata": {},
   "source": [
    "### Produce a Prediction"
   ]
  },
  {
   "cell_type": "code",
   "execution_count": null,
   "metadata": {
    "collapsed": true
   },
   "outputs": [],
   "source": []
  },
  {
   "cell_type": "markdown",
   "metadata": {},
   "source": [
    "### Tag the Image, Send to Team"
   ]
  },
  {
   "cell_type": "code",
   "execution_count": null,
   "metadata": {
    "collapsed": true
   },
   "outputs": [],
   "source": []
  },
  {
   "cell_type": "markdown",
   "metadata": {},
   "source": [
    "### Clone the Analytics EC2, Scale for Production"
   ]
  },
  {
   "cell_type": "code",
   "execution_count": null,
   "metadata": {
    "collapsed": true
   },
   "outputs": [],
   "source": []
  },
  {
   "cell_type": "markdown",
   "metadata": {},
   "source": [
    "### Kafka, batch up Weather Stream?"
   ]
  },
  {
   "cell_type": "code",
   "execution_count": null,
   "metadata": {
    "collapsed": true
   },
   "outputs": [],
   "source": []
  },
  {
   "cell_type": "code",
   "execution_count": null,
   "metadata": {
    "collapsed": true
   },
   "outputs": [],
   "source": []
  }
 ],
 "metadata": {
  "kernelspec": {
   "display_name": "Python 2",
   "language": "python",
   "name": "python2"
  },
  "language_info": {
   "codemirror_mode": {
    "name": "ipython",
    "version": 2
   },
   "file_extension": ".py",
   "mimetype": "text/x-python",
   "name": "python",
   "nbconvert_exporter": "python",
   "pygments_lexer": "ipython2",
   "version": "2.7.11"
  }
 },
 "nbformat": 4,
 "nbformat_minor": 0
}
