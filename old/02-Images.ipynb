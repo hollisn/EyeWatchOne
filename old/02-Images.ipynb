{
 "cells": [
  {
   "cell_type": "markdown",
   "metadata": {},
   "source": [
    "## EyeWatchOne Engineering Prototype\n",
    "\n",
    "Hyper local weather related accident prediction.\n",
    "\n",
    "Gives a browser/mobile based heatmap overlay on satellite images showing where accidents are predicted to occur given historical accidents and incoming weather.\n",
    "\n",
    "\n",
    "Targeted towards government planning for road emergency services, but can also be used for insurance claims adjustment, logistics companies's route planning, and much more. \n",
    "\n",
    "\n",
    "### Move Historical Insurance Data to S3\n",
    "\n",
    "code adapted from \n",
    "http://boto.cloudhackers.com/en/latest/s3_tut.html\n",
    "\n",
    "fix .py file association error\n",
    "http://superuser.com/questions/429604/passing-arguments-to-a-python-script-file-association-not-found-windows-7-on-i"
   ]
  },
  {
   "cell_type": "code",
   "execution_count": 10,
   "metadata": {
    "collapsed": false
   },
   "outputs": [
    {
     "data": {
      "text/plain": [
       "'C:\\\\Users\\\\HN\\\\Anaconda2'"
      ]
     },
     "execution_count": 10,
     "metadata": {},
     "output_type": "execute_result"
    }
   ],
   "source": [
    "import os\n",
    "import sys\n",
    "os.path.dirname(sys.executable)"
   ]
  },
  {
   "cell_type": "code",
   "execution_count": 11,
   "metadata": {
    "collapsed": false
   },
   "outputs": [
    {
     "name": "stdout",
     "output_type": "stream",
     "text": [
      "2016-02-27 14:52:54 eyewatchone\n"
     ]
    }
   ],
   "source": [
    "! aws s3 ls"
   ]
  },
  {
   "cell_type": "markdown",
   "metadata": {},
   "source": [
    "### Upload test entry to S3 bucket: eyewatchone"
   ]
  },
  {
   "cell_type": "code",
   "execution_count": 29,
   "metadata": {
    "collapsed": false
   },
   "outputs": [
    {
     "name": "stdout",
     "output_type": "stream",
     "text": [
      "upload: data/example_compressed_entry.zip to s3://eyewatchone/example_compressed_entry.zip\r\n"
     ]
    }
   ],
   "source": [
    "! aws s3 cp data/example_compressed_entry.zip s3://eyewatchone --grants read=uri=http://acs.amazonaws.com/groups/global/AllUsers full=emailaddress=hollisnolan@gmail.com"
   ]
  },
  {
   "cell_type": "code",
   "execution_count": 32,
   "metadata": {
    "collapsed": false
   },
   "outputs": [
    {
     "name": "stdout",
     "output_type": "stream",
     "text": [
      "upload: data/dictionary.html to s3://eyewatchone/dictionary.html\r\n"
     ]
    }
   ],
   "source": [
    "! aws s3 cp data/dictionary.html s3://eyewatchone --grants read=uri=http://acs.amazonaws.com/groups/global/AllUsers full=emailaddress=hollisnolan@gmail.com"
   ]
  },
  {
   "cell_type": "code",
   "execution_count": 6,
   "metadata": {
    "collapsed": false
   },
   "outputs": [
    {
     "name": "stdout",
     "output_type": "stream",
     "text": [
      "upload: data/test_set.zip to s3://eyewatchone/test_set.zip\n"
     ]
    }
   ],
   "source": [
    "! aws s3 cp data/test_set.zip s3://eyewatchone --grants read=uri=http://acs.amazonaws.com/groups/global/AllUsers full=emailaddress=hollisnolan@gmail.com"
   ]
  },
  {
   "cell_type": "code",
   "execution_count": 7,
   "metadata": {
    "collapsed": false
   },
   "outputs": [
    {
     "name": "stdout",
     "output_type": "stream",
     "text": [
      "upload: data/train_set.zip to s3://eyewatchone/train_set.zip\n"
     ]
    }
   ],
   "source": [
    "! aws s3 cp data/train_set.zip s3://eyewatchone --grants read=uri=http://acs.amazonaws.com/groups/global/AllUsers full=emailaddress=hollisnolan@gmail.com"
   ]
  },
  {
   "cell_type": "code",
   "execution_count": 12,
   "metadata": {
    "collapsed": false
   },
   "outputs": [
    {
     "name": "stdout",
     "output_type": "stream",
     "text": [
      "2016-02-27 18:34:54      24768 dictionary.html\n",
      "2016-02-27 18:27:26    5120252 example_compressed_entry.zip\n",
      "2016-02-27 20:29:50  138124104 test_set.zip\n",
      "2016-02-27 20:31:27  380553491 train_set.zip\n"
     ]
    }
   ],
   "source": [
    "! aws s3 ls s3://eyewatchone"
   ]
  },
  {
   "cell_type": "markdown",
   "metadata": {},
   "source": [
    "### Spin up analytics EC2 instance\n",
    "\n",
    "(right click for paste in windows)"
   ]
  },
  {
   "cell_type": "code",
   "execution_count": null,
   "metadata": {
    "collapsed": true
   },
   "outputs": [],
   "source": [
    "# create an instance, DS-toolbox ami and XL size\n",
    "\n",
    "!aws ec2 run-instances --image-id ami-d1737bb8 --count 1 --instance-type m3.xlarge --key-name .boto --security-groups my-sg"
   ]
  },
  {
   "cell_type": "code",
   "execution_count": null,
   "metadata": {
    "collapsed": true
   },
   "outputs": [],
   "source": [
    "ec2-attach-volume snap-ac47f4c5 --instance i-582bf5dc --device  /dev/sdf"
   ]
  },
  {
   "cell_type": "code",
   "execution_count": null,
   "metadata": {
    "collapsed": true
   },
   "outputs": [],
   "source": [
    "# ssh in (in terminal) \n",
    "ssh -X -i ~/.ssh/aws.pem ubuntu@ec2-52-90-250-206.compute-1.amazonaws.com\n",
    "\n",
    "# update \n",
    "sudo apt-get update && sudo apt-get upgrade\n",
    "\n",
    "# update pip \n",
    "sudo pip install pip --upgrade\n",
    "\n",
    "# install notebook\n",
    "sudo pip install --upgrade \"ipython[notebook]\"\n",
    "\n",
    "# open ports \n",
    "In the Security Group, select Inbound, then Edit, and then Add Rule. The Port Range should be 8888 and the Sourceis 0.0.0.0/0\n",
    "\n",
    "# start tmux \n",
    "tmux new -s notebook\n",
    "\n",
    "# new notebook with ip specified\n",
    "jupyter notebook --no-browser --ip=0.0.0.0\n",
    "\n",
    "# grab ip address of instance and navigate to \n",
    "http://52.90.250.206:8888/tree\n",
    "        \n",
    "# save this notebook, close it locally, and use the \"upload\" button to move it into the aws instance\n",
    "# rerun notebook from there"
   ]
  },
  {
   "cell_type": "code",
   "execution_count": 17,
   "metadata": {
    "collapsed": false
   },
   "outputs": [
    {
     "name": "stdout",
     "output_type": "stream",
     "text": [
      "{\n",
      "    \"StartingInstances\": [\n",
      "        {\n",
      "            \"InstanceId\": \"i-582bf5dc\", \n",
      "            \"CurrentState\": {\n",
      "                \"Code\": 0, \n",
      "                \"Name\": \"pending\"\n",
      "            }, \n",
      "            \"PreviousState\": {\n",
      "                \"Code\": 80, \n",
      "                \"Name\": \"stopped\"\n",
      "            }\n",
      "        }\n",
      "    ]\n",
      "}\n"
     ]
    }
   ],
   "source": [
    "# restart a stopped instance \n",
    "\n",
    "!aws ec2 start-instances --instance-ids i-582bf5dc --region us-east-1"
   ]
  },
  {
   "cell_type": "markdown",
   "metadata": {
    "collapsed": true
   },
   "source": [
    "### Check historical weather in EBS public data set\n",
    "\n",
    "how to \n",
    "http://docs.aws.amazon.com/AWSEC2/latest/UserGuide/ebs-attaching-volume.html\n",
    "\n",
    "public weather\n",
    "https://aws.amazon.com/datasets/daily-global-weather-measurements-1929-2009-ncdc-gsod/"
   ]
  },
  {
   "cell_type": "markdown",
   "metadata": {},
   "source": [
    "List disks "
   ]
  },
  {
   "cell_type": "code",
   "execution_count": 1,
   "metadata": {
    "collapsed": false
   },
   "outputs": [
    {
     "name": "stdout",
     "output_type": "stream",
     "text": [
      "NAME  MAJ:MIN RM SIZE RO TYPE MOUNTPOINT\r\n",
      "xvdf  202:80   0  50G  0 disk \r\n",
      "xvda1 202:1    0   8G  0 disk /\r\n"
     ]
    }
   ],
   "source": [
    "! lsblk"
   ]
  },
  {
   "cell_type": "markdown",
   "metadata": {},
   "source": [
    "mount disk \n",
    "(help from)\n",
    "https://help.ubuntu.com/community/InstallingANewHardDrive"
   ]
  },
  {
   "cell_type": "code",
   "execution_count": 2,
   "metadata": {
    "collapsed": true
   },
   "outputs": [],
   "source": [
    "!sudo mount /dev/xvdf /hist_weather/"
   ]
  },
  {
   "cell_type": "code",
   "execution_count": 3,
   "metadata": {
    "collapsed": false
   },
   "outputs": [
    {
     "name": "stdout",
     "output_type": "stream",
     "text": [
      "\u001b[33mThe directory '/home/ubuntu/.cache/pip/http' or its parent directory is not owned by the current user and the cache has been disabled. Please check the permissions and owner of that directory. If executing pip with sudo, you may want sudo's -H flag.\u001b[0m\r\n",
      "\u001b[33mThe directory '/home/ubuntu/.cache/pip' or its parent directory is not owned by the current user and caching wheels has been disabled. check the permissions and owner of that directory. If executing pip with sudo, you may want sudo's -H flag.\u001b[0m\r\n",
      "Requirement already satisfied (use --upgrade to upgrade): awscli in /usr/local/lib/python2.7/dist-packages\r\n",
      "Requirement already satisfied (use --upgrade to upgrade): botocore==1.3.30 in /usr/local/lib/python2.7/dist-packages (from awscli)\r\n",
      "Requirement already satisfied (use --upgrade to upgrade): rsa<=3.3.0,>=3.1.2 in /usr/local/lib/python2.7/dist-packages (from awscli)\r\n",
      "Requirement already satisfied (use --upgrade to upgrade): colorama<=0.3.3,>=0.2.5 in /usr/local/lib/python2.7/dist-packages (from awscli)\r\n",
      "Requirement already satisfied (use --upgrade to upgrade): s3transfer==0.0.1 in /usr/local/lib/python2.7/dist-packages (from awscli)\r\n",
      "Requirement already satisfied (use --upgrade to upgrade): docutils>=0.10 in /usr/local/lib/python2.7/dist-packages (from awscli)\r\n",
      "Requirement already satisfied (use --upgrade to upgrade): jmespath<1.0.0,>=0.7.1 in /usr/local/lib/python2.7/dist-packages (from botocore==1.3.30->awscli)\r\n",
      "Requirement already satisfied (use --upgrade to upgrade): python-dateutil<3.0.0,>=2.1 in /usr/local/lib/python2.7/dist-packages (from botocore==1.3.30->awscli)\r\n",
      "Requirement already satisfied (use --upgrade to upgrade): pyasn1>=0.1.3 in /usr/local/lib/python2.7/dist-packages (from rsa<=3.3.0,>=3.1.2->awscli)\r\n",
      "Requirement already satisfied (use --upgrade to upgrade): futures<4.0.0,>=2.2.0 in /usr/local/lib/python2.7/dist-packages (from s3transfer==0.0.1->awscli)\r\n",
      "Requirement already satisfied (use --upgrade to upgrade): six>=1.5 in /usr/local/lib/python2.7/dist-packages (from python-dateutil<3.0.0,>=2.1->botocore==1.3.30->awscli)\r\n"
     ]
    }
   ],
   "source": [
    "# install aws command line interface \n",
    "!sudo pip install awscli --upgrade"
   ]
  },
  {
   "cell_type": "code",
   "execution_count": 4,
   "metadata": {
    "collapsed": false
   },
   "outputs": [
    {
     "name": "stdout",
     "output_type": "stream",
     "text": [
      "AWS Access Key ID [****************BYWA]: ^C\n",
      "\n"
     ]
    }
   ],
   "source": [
    "# add credentials (in command line, not notebook)\n",
    "!aws configure "
   ]
  },
  {
   "cell_type": "markdown",
   "metadata": {},
   "source": [
    "###  Move historical insurance to EBS"
   ]
  },
  {
   "cell_type": "code",
   "execution_count": 5,
   "metadata": {
    "collapsed": false
   },
   "outputs": [
    {
     "name": "stdout",
     "output_type": "stream",
     "text": [
      "2016-02-28 02:34:54      24768 dictionary.html\r\n",
      "2016-02-28 02:27:26    5120252 example_compressed_entry.zip\r\n",
      "2016-02-28 04:29:50  138124104 test_set.zip\r\n",
      "2016-02-28 04:31:27  380553491 train_set.zip\r\n"
     ]
    }
   ],
   "source": [
    "!aws s3 ls s3://eyewatchone"
   ]
  },
  {
   "cell_type": "code",
   "execution_count": 6,
   "metadata": {
    "collapsed": true
   },
   "outputs": [],
   "source": [
    "# make a directory for analytics \n",
    "!sudo mkdir eyewatchone"
   ]
  },
  {
   "cell_type": "code",
   "execution_count": 7,
   "metadata": {
    "collapsed": false
   },
   "outputs": [
    {
     "name": "stdout",
     "output_type": "stream",
     "text": [
      "download: s3://eyewatchone/example_compressed_entry.zip to eyewatchone/example_compressed_entry.zip\r\n"
     ]
    }
   ],
   "source": [
    "# copy files from s3\n",
    "!sudo aws s3 cp s3://eyewatchone/example_compressed_entry.zip eyewatchone/"
   ]
  },
  {
   "cell_type": "code",
   "execution_count": 9,
   "metadata": {
    "collapsed": false
   },
   "outputs": [
    {
     "name": "stdout",
     "output_type": "stream",
     "text": [
      "Archive:  eyewatchone/example_compressed_entry.zip\n",
      "  inflating: example_compressed_entry.csv  \n"
     ]
    }
   ],
   "source": [
    "# unzip\n",
    "!sudo unzip eyewatchone/example_compressed_entry.zip"
   ]
  },
  {
   "cell_type": "markdown",
   "metadata": {},
   "source": [
    "###  Move a sample image to EC2 analytics instance \n",
    "\n",
    "Commands to explore files, what PRE means \n",
    "http://docs.aws.amazon.com/cli/latest/reference/s3/ls.html"
   ]
  },
  {
   "cell_type": "code",
   "execution_count": null,
   "metadata": {
    "collapsed": true
   },
   "outputs": [],
   "source": []
  },
  {
   "cell_type": "code",
   "execution_count": null,
   "metadata": {
    "collapsed": true
   },
   "outputs": [],
   "source": []
  },
  {
   "cell_type": "code",
   "execution_count": 5,
   "metadata": {
    "collapsed": false
   },
   "outputs": [
    {
     "name": "stdout",
     "output_type": "stream",
     "text": [
      "2013-11-08 17:13:37   57716532 Landsat/gls/2000/001/012/p001r012_7x20010613.tar.gz\n"
     ]
    }
   ],
   "source": [
    "!aws s3 ls s3://nasanex/Landsat/gls/2000/001/012 --recursive "
   ]
  },
  {
   "cell_type": "code",
   "execution_count": 34,
   "metadata": {
    "collapsed": false
   },
   "outputs": [],
   "source": [
    "!aws s3 cp s3://nasanex/Landsat/Landsat/gls/2000/001/012/ \\data\\sat\\ --recursive"
   ]
  },
  {
   "cell_type": "markdown",
   "metadata": {},
   "source": [
    "Landsat specialized python utility \n",
    "http://landsat-util.readthedocs.org/en/latest/installation.html#ubuntu-14-10\n"
   ]
  },
  {
   "cell_type": "code",
   "execution_count": 16,
   "metadata": {
    "collapsed": false
   },
   "outputs": [],
   "source": [
    "! cd eyewatchone/"
   ]
  },
  {
   "cell_type": "code",
   "execution_count": 22,
   "metadata": {
    "collapsed": false,
    "scrolled": true
   },
   "outputs": [
    {
     "name": "stdout",
     "output_type": "stream",
     "text": [
      "\u001b[33mThe directory '/home/ubuntu/.cache/pip/http' or its parent directory is not owned by the current user and the cache has been disabled. Please check the permissions and owner of that directory. If executing pip with sudo, you may want sudo's -H flag.\u001b[0m\n",
      "\u001b[33mThe directory '/home/ubuntu/.cache/pip' or its parent directory is not owned by the current user and caching wheels has been disabled. check the permissions and owner of that directory. If executing pip with sudo, you may want sudo's -H flag.\u001b[0m\n",
      "Collecting landsat-util\n",
      "/usr/local/lib/python2.7/dist-packages/pip/_vendor/requests/packages/urllib3/util/ssl_.py:315: SNIMissingWarning: An HTTPS request has been made, but the SNI (Subject Name Indication) extension to TLS is not available on this platform. This may cause the server to present an incorrect TLS certificate, which can cause validation failures. For more information, see https://urllib3.readthedocs.org/en/latest/security.html#snimissingwarning.\n",
      "  SNIMissingWarning\n",
      "/usr/local/lib/python2.7/dist-packages/pip/_vendor/requests/packages/urllib3/util/ssl_.py:120: InsecurePlatformWarning: A true SSLContext object is not available. This prevents urllib3 from configuring SSL appropriately and may cause certain SSL connections to fail. For more information, see https://urllib3.readthedocs.org/en/latest/security.html#insecureplatformwarning.\n",
      "  InsecurePlatformWarning\n",
      "  Downloading landsat_util-0.12.1-py2.py3-none-any.whl\n",
      "Collecting boto>=2.38.0 (from landsat-util)\n",
      "  Downloading boto-2.39.0-py2.py3-none-any.whl (1.3MB)\n",
      "\u001b[K    100% |████████████████████████████████| 1.4MB 878kB/s \n",
      "\u001b[?25hCollecting scipy>=0.16.0 (from landsat-util)\n",
      "  Downloading scipy-0.17.0.tar.gz (12.4MB)\n",
      "\u001b[K    100% |████████████████████████████████| 12.4MB 93kB/s \n",
      "\u001b[?25hCollecting rasterio>=0.26.0 (from landsat-util)\n",
      "  Downloading rasterio-0.31.0.tar.gz (1.1MB)\n",
      "\u001b[K    100% |████████████████████████████████| 1.1MB 919kB/s \n",
      "\u001b[?25hCollecting scikit-image>=0.11.3 (from landsat-util)\n",
      "  Downloading scikit-image-0.11.3.tar.gz (18.6MB)\n",
      "\u001b[K    100% |████████████████████████████████| 18.6MB 60kB/s \n",
      "\u001b[?25hRequirement already satisfied (use --upgrade to upgrade): python-dateutil>=2.4.2 in /usr/local/lib/python2.7/dist-packages (from landsat-util)\n",
      "Collecting polyline==1.1 (from landsat-util)\n",
      "  Downloading polyline-1.1.tar.gz\n",
      "Collecting usgs2==0.2.0 (from landsat-util)\n",
      "  Downloading usgs2-0.2.0.tar.gz\n",
      "Collecting termcolor>=1.1.0 (from landsat-util)\n",
      "  Downloading termcolor-1.1.0.tar.gz\n",
      "Collecting six==1.8.0 (from landsat-util)\n",
      "  Downloading six-1.8.0-py2.py3-none-any.whl\n",
      "Collecting requests==2.7.0 (from landsat-util)\n",
      "  Downloading requests-2.7.0-py2.py3-none-any.whl (470kB)\n",
      "\u001b[K    100% |████████████████████████████████| 471kB 2.5MB/s \n",
      "\u001b[?25hCollecting numpy>=1.9.3 (from landsat-util)\n",
      "  Downloading numpy-1.10.4.tar.gz (4.1MB)\n",
      "\u001b[K    100% |████████████████████████████████| 4.1MB 290kB/s \n",
      "\u001b[?25hCollecting geocoder>=1.5.1 (from landsat-util)\n",
      "  Downloading geocoder-1.8.2-py2.py3-none-any.whl (154kB)\n",
      "\u001b[K    100% |████████████████████████████████| 163kB 8.9MB/s \n",
      "\u001b[?25hCollecting homura>=0.1.2 (from landsat-util)\n",
      "  Downloading homura-0.1.3.tar.gz\n",
      "Collecting affine (from rasterio>=0.26.0->landsat-util)\n",
      "  Downloading affine-1.2.0-py2-none-any.whl\n",
      "Collecting cligj (from rasterio>=0.26.0->landsat-util)\n",
      "  Downloading cligj-0.4.0-py2-none-any.whl\n",
      "Collecting snuggs (from rasterio>=0.26.0->landsat-util)\n",
      "  Downloading snuggs-1.3.1-py2-none-any.whl\n",
      "Collecting click-plugins (from rasterio>=0.26.0->landsat-util)\n",
      "  Downloading click-plugins-1.0.3.tar.gz\n",
      "Collecting enum34 (from rasterio>=0.26.0->landsat-util)\n",
      "  Downloading enum34-1.1.2.tar.gz (46kB)\n",
      "\u001b[K    100% |████████████████████████████████| 51kB 10.3MB/s \n",
      "\u001b[?25hRequirement already satisfied (use --upgrade to upgrade): matplotlib>=1.1.0 in /usr/lib/pymodules/python2.7 (from scikit-image>=0.11.3->landsat-util)\n",
      "Collecting networkx>=1.8 (from scikit-image>=0.11.3->landsat-util)\n",
      "  Downloading networkx-1.11-py2.py3-none-any.whl (1.3MB)\n",
      "\u001b[K    100% |████████████████████████████████| 1.3MB 956kB/s \n",
      "\u001b[?25hRequirement already satisfied (use --upgrade to upgrade): pillow>=1.7.8 in /usr/lib/python2.7/dist-packages (from scikit-image>=0.11.3->landsat-util)\n",
      "Collecting click>=4.0 (from usgs2==0.2.0->landsat-util)\n",
      "  Downloading click-6.3-py2.py3-none-any.whl (70kB)\n",
      "\u001b[K    100% |████████████████████████████████| 71kB 11.6MB/s \n",
      "\u001b[?25hCollecting requests-futures>=0.9.5 (from usgs2==0.2.0->landsat-util)\n",
      "  Downloading requests-futures-0.9.7.tar.gz\n",
      "Collecting ratelim (from geocoder>=1.5.1->landsat-util)\n",
      "  Downloading ratelim-0.1.6-py2.py3-none-any.whl\n",
      "Collecting humanize (from homura>=0.1.2->landsat-util)\n",
      "  Downloading humanize-0.5.1.tar.gz\n",
      "Requirement already satisfied (use --upgrade to upgrade): pycurl in /usr/lib/python2.7/dist-packages (from homura>=0.1.2->landsat-util)\n",
      "Requirement already satisfied (use --upgrade to upgrade): pyparsing in /usr/lib/python2.7/dist-packages (from snuggs->rasterio>=0.26.0->landsat-util)\n",
      "Requirement already satisfied (use --upgrade to upgrade): decorator>=3.4.0 in /usr/local/lib/python2.7/dist-packages (from networkx>=1.8->scikit-image>=0.11.3->landsat-util)\n",
      "Requirement already satisfied (use --upgrade to upgrade): futures>=2.1.3 in /usr/local/lib/python2.7/dist-packages (from requests-futures>=0.9.5->usgs2==0.2.0->landsat-util)\n",
      "Installing collected packages: boto, scipy, affine, click, cligj, numpy, snuggs, click-plugins, enum34, rasterio, six, networkx, scikit-image, polyline, requests, requests-futures, usgs2, termcolor, ratelim, geocoder, humanize, homura, landsat-util\n",
      "  Found existing installation: boto 2.9.6\n",
      "\u001b[33m    DEPRECATION: Uninstalling a distutils installed project (boto) has been deprecated and will be removed in a future version. This is due to the fact that uninstalling a distutils project will only partially uninstall the project.\u001b[0m\n",
      "    Uninstalling boto-2.9.6:\n",
      "      Successfully uninstalled boto-2.9.6\n",
      "  Found existing installation: scipy 0.12.0\n",
      "\u001b[33m    DEPRECATION: Uninstalling a distutils installed project (scipy) has been deprecated and will be removed in a future version. This is due to the fact that uninstalling a distutils project will only partially uninstall the project.\u001b[0m\n",
      "    Uninstalling scipy-0.12.0:\n",
      "      Successfully uninstalled scipy-0.12.0\n",
      "  Running setup.py install for scipy ... \u001b[?25l-\b \b\\\b \b|\b \b/\b \b-\b \b\\\b \b|\b \b/\b \b-\b \b\\\b \b|\b \b/\b \b-\b \b\\\b \b|\b \b/\b \b-\b \b\\\b \b|\b \b/\b \b-\b \b\\\b \b|\b \b/\b \b-\b \b\\\b \b|\b \b/\b \b-\b \b\\\b \b|\b \b/\b \b-\b \b\\\b \b|\b \b/\b \b-\b \b\\\b \b|\b \b/\b \b-\b \b\\\b \b|\b \b/\b \b-\b \b\\\b \b|\b \b/\b \b-\b \b\\\b \b|\b \b/\b \b-\b \b\\\b \b|\b \b/\b \b-\b \b\\\b \b|\b \b/\b \b-\b \b\\\b \b|\b \b/\b \b-\b \b\\\b \b|\b \b/\b \b-\b \b\\\b \b|\b \b/\b \b-\b \b\\\b \b|\b \b/\b \b-\b \b\\\b \b|\b \b/\b \b-\b \b\\\b \b|\b \b/\b \b-\b \b\\\b \b|\b \b/\b \b-\b \b\\\b \b|\b \b/\b \b-\b \b\\\b \b|\b \b/\b \b-\b \b\\\b \b|\b \b/\b \b-\b \b\\\b \b|\b \b/\b \b-\b \b\\\b \b|\b \b/\b \b-\b \b\\\b \b|\b \b/\b \b-\b \b\\\b \b|\b \b/\b \b-\b \b\\\b \b|\b \b/\b \b-\b \b\\\b \b|\b \b/\b \b-\b \b\\\b \b|\b \b/\b \b-\b \b\\\b \b|\b \b/\b \b-\b \b\\\b \b|\b \b/\b \b-\b \b\\\b \b|\b \b/\b \b-\b \b\\\b \b|\b \b/\b \b-\b \b\\\b \b|\b \b/\b \b-\b \b\\\b \b|\b \b/\b \b-\b \b\\\b \b|\b \b/\b \b-\b \b\\\b \b|\b \b/\b \b-\b \b\\\b \b|\b \b/\b \b-\b \b\\\b \b|\b \b/\b \b-\b \b\\\b \b|\b \b/\b \b-\b \b\\\b \b|\b \b/\b \b-\b \b\\\b \b|\b \b/\b \b-\b \b\\\b \b|\b \b/\b \b-\b \b\\\b \b|\b \b/\b \b-\b \b\\\b \b|\b \b/\b \b-\b \b\\\b \b|\b \b/\b \b-\b \b\\\b \b|\b \b/\b \b-\b \b\\\b \b|\b \b/\b \b-\b \b\\\b \b|\b \b/\b \b-\b \b\\\b \b|\b \b/\b \b-\b \b\\\b \b|\b \b/\b \b-\b \b\\\b \b|\b \b/\b \b-\b \b\\\b \b|\b \b/\b \b-\b \b\\\b \b|\b \b/\b \b-\b \b\\\b \b|\b \b/\b \b-\b \b\\\b \b|\b \b/\b \b-\b \b\\\b \b|\b \b/\b \b-\b \b\\\b \b|\b \b/\b \b-\b \b\\\b \b|\b \b/\b \b-\b \b\\\b \b|\b \b/\b \b-\b \b\\\b \b|\b \b/\b \b-\b \b\\\b \b|\b \b/\b \b-\b \b\\\b \b|\b \b/\b \b-\b \b\\\b \b|\b \b/\b \b-\b \b\\\b \b|\b \b/\b \b-\b \b\\\b \b|\b \b/\b \b-\b \b\\\b \b|\b \b/\b \b-\b \b\\\b \b|\b \b/\b \b-\b \b\\\b \b|\b \b/\b \b-\b \b\\\b \b|\b \b/\b \b-\b \b\\\b \b|\b \b/\b \b-\b \b\\\b \b|\b \b/\b \b-\b \b\\\b \b|\b \b/\b \b-\b \b\\\b \b|\b \b/\b \b-\b \b\\\b \b|\b \b/\b \b-\b \b\\\b \b|\b \b/\b \b-\b \b\\\b \b|\b \b/\b \b-\b \b\\\b \b|\b \b/\b \b-\b \b\\\b \b|\b \b/\b \b-\b \b\\\b \b|\b \b/\b \b-\b \b\\\b \b|\b \b/\b \b-\b \b\\\b \b|\b \b/\b \b-\b \b\\\b \b|\b \b/\b \b-\b \b\\\b \b|\b \b/\b \b-\b \b\\\b \b|\b \b/\b \b-\b \b\\\b \b|\b \b/\b \b-\b \b\\\b \b|\b \b/\b \b-\b \b\\\b \b|\b \b/\b \b-\b \b\\\b \b|\b \b/\b \b-\b \b\\\b \b|\b \b/\b \b-\b \b\\\b \b|\b \b/\b \b-\b \b\\\b \b|\b \b/\b \b-\b \b\\\b \b|\b \b/\b \b-\b \b\\\b \b|\b \b/\b \b-\b \b\\\b \b|\b \b/\b \b-\b \b\\\b \b|\b \b/\b \b-\b \b\\\b \b|\b \b/\b \b-\b \b\\\b \b|\b \b/\b \b-\b \b\\\b \b|\b \b/\b \b-\b \b\\\b \b|\b \b/\b \b-\b \b\\\b \b|\b \b/\b \b-\b \b\\\b \b|\b \b/\b \b-\b \b\\\b \b|\b \b/\b \b-\b \b\\\b \b|\b \b/\b \b-\b \b\\\b \b|\b \b/\b \b-\b \b\\\b \b|\b \b/\b \b-\b \b\\\b \b|\b \b/\b \b-\b \b\\\b \b|\b \b/\b \b-\b \b\\\b \b|\b \b/\b \b-\b \b\\\b \b|\b \b/\b \b-\b \b\\\b \b|\b \b/\b \b-\b \b\\\b \b|\b \b/\b \b-\b \b\\\b \b|\b \b/\b \b-\b \b\\\b \b|\b \b/\b \b-\b \b\\\b \b|\b \b/\b \b-\b \b\\\b \b|\b \b/\b \b-\b \b\\\b \b|\b \b/\b \b-\b \b\\\b \b|\b \b/\b \b-\b \b\\\b \b|\b \b/\b \b-\b \b\\\b \b|\b \b/\b \b-\b \b\\\b \b|\b \b/\b \b-\b \b\\\b \b|\b \b/\b \b-\b \b\\\b \b|\b \b/\b \b-\b \b\\\b \b|\b \b/\b \b-\b \b\\\b \b|\b \b/\b \b-\b \b\\\b \b|\b \b/\b \b-\b \b\\\b \b|\b \b/\b \b-\b \b\\\b \b|\b \b/\b \b-\b \b\\\b \b|\b \b/\b \b-\b \b\\\b \b|\b \b/\b \b-\b \b\\\b \b|\b \b/\b \b-\b \b\\\b \b|\b \b/\b \b-\b \b\\\b \b|\b \b/\b \b-\b \b\\\b \b|\b \b/\b \b-\b \b\\\b \b|\b \b/\b \b-\b \b\\\b \b|\b \b/\b \b-\b \b\\\b \b|\b \b/\b \b-\b \b\\\b \b|\b \b/\b \b-\b \b\\\b \b|\b \b/\b \b-\b \b\\\b \b|\b \b/\b \b-\b \b\\\b \b|\b \b/\b \b-\b \b\\\b \b|\b \b/\b \b-\b \b\\\b \b|\b \b/\b \b-\b \b\\\b \b|\b \b/\b \b-\b \b\\\b \b|\b \b/\b \b-\b \b\\\b \b|\b \b/\b \b-\b \b\\\b \b|\b \b/\b \b-\b \b\\\b \b|\b \b/\b \b-\b \b\\\b \b|\b \b/\b \b-\b \b\\\b \b|\b \b/\b \b-\b \b\\\b \b|\b \b/\b \b-\b \b\\\b \b|\b \b/\b \b-\b \b\\\b \b|\b \b/\b \b-\b \b\\\b \b|\b \b/\b \b-\b \b\\\b \b|\b \b/\b \b-\b \b\\\b \b|\b \b/\b \b-\b \b\\\b \b|\b \b/\b \b-\b \b\\\b \b|\b \b/\b \b-\b \b\\\b \b|\b \b/\b \b-\b \b\\\b \b|\b \b/\b \b-\b \b\\\b \b|\b \b/\b \b-\b \b\\\b \b|\b \b/\b \b-\b \b\\\b \b|\b \b/\b \b-\b \b\\\b \b|\b \b/\b \b-\b \b\\\b \b|\b \b/\b \b-\b \b\\\b \b|\b \b/\b \b-\b \b\\\b \b|\b \b/\b \b-\b \b\\\b \b|\b \b/\b \b-\b \b\\\b \b|\b \b/\b \b-\b \b\\\b \b|\b \b/\b \b-\b \b\\\b \b|\b \b/\b \b-\b \b\\\b \b|\b \b/\b \b-\b \b\\\b \b|\b \b/\b \b-\b \b\\\b \b|\b \b/\b \b-\b \b\\\b \b|\b \b/\b \b-\b \b\\\b \b|\b \b/\b \b-\b \b\\\b \b|\b \b/\b \b-\b \b\\\b \b|\b \b/\b \b-\b \b\\\b \b|\b \b/\b \b-\b \b\\\b \b|\b \b/\b \b-\b \b\\\b \b|\b \b/\b \b-\b \b\\\b \b|\b \b/\b \b-\b \b\\\b \b|\b \b/\b \b-\b \b\\\b \b|\b \b/\b \b-\b \b\\\b \b|\b \b/\b \b-\b \b\\\b \b|\b \b/\b \b-\b \b\\\b \b|\b \b/\b \b-\b \b\\\b \b|\b \b/\b \b-\b \b\\\b \b|\b \b/\b \b-\b \b\\\b \b|\b \b/\b \b-\b \b\\\b \b|\b \b/\b \b-\b \b\\\b \b|\b \b/\b \b-\b \b\\\b \b|\b \b/\b \b-\b \b\\\b \b|\b \b/\b \b-\b \b\\\b \b|\b \b/\b \b-\b \b\\\b \b|\b \b/\b \b-\b \b\\\b \b|\b \b/\b \b-\b \b\\\b \b|\b \b/\b \b-\b \b\\\b \b|\b \b/\b \b-\b \b\\\b \b|\b \b/\b \b-\b \b\\\b \b|\b \b/\b \b-\b \b\\\b \b|\b \b/\b \b-\b \b\\\b \b|\b \b/\b \b-\b \b\\\b \b|\b \b/\b \b-\b \b\\\b \b|\b \b/\b \b-\b \b\\\b \b|\b \b/\b \b-\b \b\\\b \b|\b \b/\b \b-\b \b\\\b \b|\b \b/\b \b-\b \b\\\b \b|\b \b/\b \b-\b \b\\\b \b|\b \b/\b \b-\b \b\\\b \b|\b \b/\b \b-\b \b\\\b \b|\b \b/\b \b-\b \b\\\b \b|\b \b/\b \b-\b \b\\\b \b|\b \b/\b \b-\b \b\\\b \b|\b \b/\b \b-\b \b\\\b \b|\b \b/\b \b-\b \b\\\b \b|\b \b/\b \b-\b \b\\\b \b|\b \b/\b \b-\b \b\\\b \b|\b \b/\b \b-\b \b\\\b \b|\b \bdone\n",
      "\u001b[?25h  Found existing installation: numpy 1.7.1\n",
      "\u001b[33m    DEPRECATION: Uninstalling a distutils installed project (numpy) has been deprecated and will be removed in a future version. This is due to the fact that uninstalling a distutils project will only partially uninstall the project.\u001b[0m\n",
      "    Uninstalling numpy-1.7.1:\n",
      "      Successfully uninstalled numpy-1.7.1\n",
      "  Running setup.py install for numpy ... \u001b[?25l-\b \b\\\b \b|\b \b/\b \b-\b \b\\\b \b|\b \b/\b \b-\b \b\\\b \b|\b \b/\b \b-\b \b\\\b \b|\b \b/\b \b-\b \b\\\b \b|\b \b/\b \b-\b \b\\\b \b|\b \b/\b \b-\b \b\\\b \b|\b \b/\b \b-\b \b\\\b \b|\b \b/\b \b-\b \b\\\b \b|\b \b/\b \b-\b \b\\\b \b|\b \b/\b \b-\b \b\\\b \b|\b \b/\b \b-\b \b\\\b \b|\b \b/\b \b-\b \b\\\b \b|\b \b/\b \b-\b \b\\\b \b|\b \b/\b \b-\b \b\\\b \b|\b \b/\b \b-\b \b\\\b \b|\b \b/\b \b-\b \b\\\b \b|\b \b/\b \b-\b \b\\\b \b|\b \b/\b \b-\b \b\\\b \b|\b \b/\b \b-\b \b\\\b \b|\b \b/\b \b-\b \b\\\b \b|\b \b/\b \b-\b \b\\\b \b|\b \b/\b \b-\b \b\\\b \b|\b \b/\b \b-\b \b\\\b \b|\b \b/\b \b-\b \b\\\b \b|\b \b/\b \b-\b \b\\\b \b|\b \b/\b \b-\b \b\\\b \b|\b \b/\b \b-\b \b\\\b \b|\b \b/\b \b-\b \b\\\b \b|\b \b/\b \b-\b \b\\\b \b|\b \b/\b \b-\b \b\\\b \b|\b \b/\b \b-\b \b\\\b \b|\b \b/\b \bdone\n",
      "\u001b[?25h  Running setup.py install for click-plugins ... \u001b[?25l-\b \bdone\n",
      "\u001b[?25h  Running setup.py install for enum34 ... \u001b[?25l-\b \bdone\n",
      "\u001b[?25h  Running setup.py install for rasterio ... \u001b[?25l-\b \b\\\b \b|\b \berror\n",
      "    Complete output from command /usr/bin/python -u -c \"import setuptools, tokenize;__file__='/tmp/pip-build-2jukJL/rasterio/setup.py';exec(compile(getattr(tokenize, 'open', open)(__file__).read().replace('\\r\\n', '\\n'), __file__, 'exec'))\" install --record /tmp/pip-1nO8rq-record/install-record.txt --single-version-externally-managed --compile:\n",
      "    WARNING:root:Failed to get options via gdal-config: [Errno 2] No such file or directory\n",
      "    running install\n",
      "    running build\n",
      "    running build_py\n",
      "    creating build\n",
      "    creating build/lib.linux-x86_64-2.7\n",
      "    creating build/lib.linux-x86_64-2.7/rasterio\n",
      "    copying ./rasterio/errors.py -> build/lib.linux-x86_64-2.7/rasterio\n",
      "    copying ./rasterio/profiles.py -> build/lib.linux-x86_64-2.7/rasterio\n",
      "    copying ./rasterio/tool.py -> build/lib.linux-x86_64-2.7/rasterio\n",
      "    copying ./rasterio/warnings.py -> build/lib.linux-x86_64-2.7/rasterio\n",
      "    copying ./rasterio/warp.py -> build/lib.linux-x86_64-2.7/rasterio\n",
      "    copying ./rasterio/transform.py -> build/lib.linux-x86_64-2.7/rasterio\n",
      "    copying ./rasterio/five.py -> build/lib.linux-x86_64-2.7/rasterio\n",
      "    copying ./rasterio/enums.py -> build/lib.linux-x86_64-2.7/rasterio\n",
      "    copying ./rasterio/features.py -> build/lib.linux-x86_64-2.7/rasterio\n",
      "    copying ./rasterio/dtypes.py -> build/lib.linux-x86_64-2.7/rasterio\n",
      "    copying ./rasterio/__init__.py -> build/lib.linux-x86_64-2.7/rasterio\n",
      "    copying ./rasterio/coords.py -> build/lib.linux-x86_64-2.7/rasterio\n",
      "    copying ./rasterio/fill.py -> build/lib.linux-x86_64-2.7/rasterio\n",
      "    copying ./rasterio/vfs.py -> build/lib.linux-x86_64-2.7/rasterio\n",
      "    copying ./rasterio/crs.py -> build/lib.linux-x86_64-2.7/rasterio\n",
      "    copying ./rasterio/sample.py -> build/lib.linux-x86_64-2.7/rasterio\n",
      "    creating build/lib.linux-x86_64-2.7/rasterio/rio\n",
      "    copying ./rasterio/rio/helpers.py -> build/lib.linux-x86_64-2.7/rasterio/rio\n",
      "    copying ./rasterio/rio/options.py -> build/lib.linux-x86_64-2.7/rasterio/rio\n",
      "    copying ./rasterio/rio/info.py -> build/lib.linux-x86_64-2.7/rasterio/rio\n",
      "    copying ./rasterio/rio/main.py -> build/lib.linux-x86_64-2.7/rasterio/rio\n",
      "    copying ./rasterio/rio/convert.py -> build/lib.linux-x86_64-2.7/rasterio/rio\n",
      "    copying ./rasterio/rio/warp.py -> build/lib.linux-x86_64-2.7/rasterio/rio\n",
      "    copying ./rasterio/rio/merge.py -> build/lib.linux-x86_64-2.7/rasterio/rio\n",
      "    copying ./rasterio/rio/features.py -> build/lib.linux-x86_64-2.7/rasterio/rio\n",
      "    copying ./rasterio/rio/__init__.py -> build/lib.linux-x86_64-2.7/rasterio/rio\n",
      "    copying ./rasterio/rio/calc.py -> build/lib.linux-x86_64-2.7/rasterio/rio\n",
      "    copying ./rasterio/rio/bands.py -> build/lib.linux-x86_64-2.7/rasterio/rio\n",
      "    copying ./rasterio/rio/overview.py -> build/lib.linux-x86_64-2.7/rasterio/rio\n",
      "    copying ./rasterio/rio/sample.py -> build/lib.linux-x86_64-2.7/rasterio/rio\n",
      "    creating build/lib.linux-x86_64-2.7/rasterio/tools\n",
      "    copying ./rasterio/tools/merge.py -> build/lib.linux-x86_64-2.7/rasterio/tools\n",
      "    copying ./rasterio/tools/__init__.py -> build/lib.linux-x86_64-2.7/rasterio/tools\n",
      "    running egg_info\n",
      "    writing requirements to rasterio.egg-info/requires.txt\n",
      "    writing rasterio.egg-info/PKG-INFO\n",
      "    writing top-level names to rasterio.egg-info/top_level.txt\n",
      "    writing dependency_links to rasterio.egg-info/dependency_links.txt\n",
      "    writing entry points to rasterio.egg-info/entry_points.txt\n",
      "    writing requirements to rasterio.egg-info/requires.txt\n",
      "    writing rasterio.egg-info/PKG-INFO\n",
      "    writing top-level names to rasterio.egg-info/top_level.txt\n",
      "    writing dependency_links to rasterio.egg-info/dependency_links.txt\n",
      "    writing entry points to rasterio.egg-info/entry_points.txt\n",
      "    warning: manifest_maker: standard file '-c' not found\n",
      "    \n",
      "    reading manifest file 'rasterio.egg-info/SOURCES.txt'\n",
      "    writing manifest file 'rasterio.egg-info/SOURCES.txt'\n",
      "    running build_ext\n",
      "    building 'rasterio._base' extension\n",
      "    creating build/temp.linux-x86_64-2.7\n",
      "    creating build/temp.linux-x86_64-2.7/rasterio\n",
      "    x86_64-linux-gnu-gcc -pthread -fno-strict-aliasing -DNDEBUG -g -fwrapv -O2 -Wall -Wstrict-prototypes -fPIC -I/usr/local/lib/python2.7/dist-packages/numpy/core/include -I/usr/include/python2.7 -c rasterio/_base.c -o build/temp.linux-x86_64-2.7/rasterio/_base.o -Wno-unused-parameter -Wno-unused-function\n",
      "    rasterio/_base.c:263:22: fatal error: cpl_conv.h: No such file or directory\n",
      "     #include \"cpl_conv.h\"\n",
      "                          ^\n",
      "    compilation terminated.\n",
      "    error: command 'x86_64-linux-gnu-gcc' failed with exit status 1\n",
      "    \n",
      "    ----------------------------------------\n",
      "\u001b[31mCommand \"/usr/bin/python -u -c \"import setuptools, tokenize;__file__='/tmp/pip-build-2jukJL/rasterio/setup.py';exec(compile(getattr(tokenize, 'open', open)(__file__).read().replace('\\r\\n', '\\n'), __file__, 'exec'))\" install --record /tmp/pip-1nO8rq-record/install-record.txt --single-version-externally-managed --compile\" failed with error code 1 in /tmp/pip-build-2jukJL/rasterio/\u001b[0m\n",
      "\u001b[?25h"
     ]
    }
   ],
   "source": [
    "# install utility (reccomended at command line, long )\n",
    "!sudo pip install landsat-util"
   ]
  },
  {
   "cell_type": "code",
   "execution_count": 28,
   "metadata": {
    "collapsed": false,
    "scrolled": true
   },
   "outputs": [
    {
     "name": "stdout",
     "output_type": "stream",
     "text": [
      "Reading package lists... Done\n",
      "Building dependency tree       \n",
      "Reading state information... Done\n",
      "gfortran is already the newest version.\n",
      "gfortran set to manually installed.\n",
      "python-numpy is already the newest version.\n",
      "python-pip is already the newest version.\n",
      "python-scipy is already the newest version.\n",
      "The following extra packages will be installed:\n",
      "  comerr-dev hdf5-helpers krb5-multidev libarmadillo3 libatlas-dev\n",
      "  libatlas3-base libcf0 libcurl4-gnutls-dev libdap-dev libdap11 libdapclient3\n",
      "  libdapserver7 libepsilon0 libfreexl1 libgcrypt11-dev libgdal1 libgeos-3.3.3\n",
      "  libgeos-c1 libgeos-dev libgif-dev libgif4 libgnutls-dev libgnutls-openssl27\n",
      "  libgnutls26 libgnutlsxx27 libgpg-error-dev libgssrpc4 libhdf4-0-alt\n",
      "  libhdf4-alt-dev libhdf5-dev libhdf5-serial-dev libidn11-dev libjasper-dev\n",
      "  libkadm5clnt-mit8 libkadm5srv-mit8 libkdb5-6 libkrb5-dev libldap2-dev\n",
      "  libltdl-dev libltdl7 libnetcdf-dev libnetcdfc++4 libnetcdfc7 libnetcdff5\n",
      "  libodbc1 libogdi3.2 libp11-kit-dev libpq-dev libpq5 libproj0 librtmp-dev\n",
      "  libspatialite-dev libspatialite3 libsqlite3-dev libssl-dev libssl-doc\n",
      "  libtasn1-3-dev libtool libxerces-c2-dev libxerces-c28 libxml2-dev odbcinst\n",
      "  odbcinst1debian2 pkg-config proj-bin proj-data unixodbc unixodbc-dev\n",
      "  uuid-dev\n",
      "Suggested packages:\n",
      "  doc-base krb5-doc libblas-doc liblapack-doc libcurl4-doc libcurl3-dbg\n",
      "  libgcrypt11-doc libgdal-doc gnutls26-doc gnutls-bin krb5-user libhdf4-doc\n",
      "  hdf4-tools libnetcdf4 libhdf5-doc libtool-doc netcdf-bin netcdf-doc\n",
      "  libmyodbc odbc-postgresql tdsodbc unixodbc-bin ogdi-bin postgresql-doc-9.1\n",
      "  sqlite3-doc gcj libxerces-c2-doc proj-ps-doc\n",
      "The following NEW packages will be installed:\n",
      "  comerr-dev hdf5-helpers krb5-multidev libarmadillo3 libatlas-base-dev\n",
      "  libatlas-dev libatlas3-base libcf0 libcurl4-gnutls-dev libdap-dev libdap11\n",
      "  libdapclient3 libdapserver7 libepsilon0 libfreetype6-dev libfreexl1\n",
      "  libgcrypt11-dev libgdal-dev libgdal1 libgeos-3.3.3 libgeos-c1 libgeos-dev\n",
      "  libgif-dev libgif4 libgnutls-dev libgnutlsxx27 libgpg-error-dev libgssrpc4\n",
      "  libhdf4-0-alt libhdf4-alt-dev libhdf5-dev libhdf5-serial-dev libidn11-dev\n",
      "  libjasper-dev libkadm5clnt-mit8 libkadm5srv-mit8 libkdb5-6 libkrb5-dev\n",
      "  libldap2-dev libltdl-dev libltdl7 libnetcdf-dev libnetcdfc++4 libnetcdfc7\n",
      "  libnetcdff5 libodbc1 libogdi3.2 libp11-kit-dev libpq-dev libpq5 libproj0\n",
      "  librtmp-dev libspatialite-dev libspatialite3 libsqlite3-dev libssl-dev\n",
      "  libssl-doc libtasn1-3-dev libtool libxerces-c2-dev libxerces-c28 libxml2-dev\n",
      "  odbcinst odbcinst1debian2 pkg-config proj-bin proj-data unixodbc\n",
      "  unixodbc-dev uuid-dev\n",
      "The following packages will be upgraded:\n",
      "  libgnutls-openssl27 libgnutls26\n",
      "2 upgraded, 70 newly installed, 0 to remove and 12 not upgraded.\n",
      "Need to get 56.9 MB of archives.\n",
      "After this operation, 214 MB of additional disk space will be used.\n",
      "Do you want to continue [Y/n]? ^C\n"
     ]
    }
   ],
   "source": [
    "sudo apt-get install python-pip python-numpy python-scipy \\\n",
    "libgdal-dev libatlas-base-dev gfortran libfreetype6-dev"
   ]
  },
  {
   "cell_type": "markdown",
   "metadata": {},
   "source": [
    "###  Move a sample image to EC2 analytics instance \n",
    "\n",
    "Alternate images source \n",
    "https://aws.amazon.com/datasets/ccafs-climate-data/?tag=datasets%23keywords%23climate\n",
    "    \n",
    "    "
   ]
  },
  {
   "cell_type": "code",
   "execution_count": null,
   "metadata": {
    "collapsed": true
   },
   "outputs": [],
   "source": []
  },
  {
   "cell_type": "markdown",
   "metadata": {},
   "source": [
    "### Query Weather API, Store to EBS\n",
    "\n",
    "code adapted from http://stackoverflow.com/questions/12965203/how-to-get-json-from-webpage-into-python-script\n",
    "and https://www.wunderground.com/weather/api/d/docs?MR=1"
   ]
  },
  {
   "cell_type": "code",
   "execution_count": null,
   "metadata": {
    "collapsed": true
   },
   "outputs": [],
   "source": [
    "i-bb95183f"
   ]
  },
  {
   "cell_type": "code",
   "execution_count": 37,
   "metadata": {
    "collapsed": false
   },
   "outputs": [],
   "source": [
    "! aws s3 ls s3://cgiardata/ccafs/ccafs/ccafs-climate"
   ]
  },
  {
   "cell_type": "code",
   "execution_count": 8,
   "metadata": {
    "collapsed": false
   },
   "outputs": [
    {
     "name": "stdout",
     "output_type": "stream",
     "text": [
      "{u'current_observation': {u'UV': u'4',\n",
      "                          u'dewpoint_c': 10,\n",
      "                          u'dewpoint_f': 50,\n",
      "                          u'dewpoint_string': u'50 F (10 C)',\n",
      "                          u'display_location': {u'city': u'San Francisco',\n",
      "                                                u'country': u'US',\n",
      "                                                u'country_iso3166': u'US',\n",
      "                                                u'elevation': u'47.00000000',\n",
      "                                                u'full': u'San Francisco, CA',\n",
      "                                                u'latitude': u'37.77500916',\n",
      "                                                u'longitude': u'-122.41825867',\n",
      "                                                u'magic': u'1',\n",
      "                                                u'state': u'CA',\n",
      "                                                u'state_name': u'California',\n",
      "                                                u'wmo': u'99999',\n",
      "                                                u'zip': u'94101'},\n",
      "                          u'estimated': {},\n",
      "                          u'feelslike_c': u'14.1',\n",
      "                          u'feelslike_f': u'57.3',\n",
      "                          u'feelslike_string': u'57.3 F (14.1 C)',\n",
      "                          u'forecast_url': u'http://www.wunderground.com/US/CA/San_Francisco.html',\n",
      "                          u'heat_index_c': u'NA',\n",
      "                          u'heat_index_f': u'NA',\n",
      "                          u'heat_index_string': u'NA',\n",
      "                          u'history_url': u'http://www.wunderground.com/weatherstation/WXDailyHistory.asp?ID=KCASANFR58',\n",
      "                          u'icon': u'cloudy',\n",
      "                          u'icon_url': u'http://icons.wxug.com/i/c/k/cloudy.gif',\n",
      "                          u'image': {u'link': u'http://www.wunderground.com',\n",
      "                                     u'title': u'Weather Underground',\n",
      "                                     u'url': u'http://icons.wxug.com/graphics/wu2/logo_130x80.png'},\n",
      "                          u'local_epoch': u'1457296215',\n",
      "                          u'local_time_rfc822': u'Sun, 06 Mar 2016 12:30:15 -0800',\n",
      "                          u'local_tz_long': u'America/Los_Angeles',\n",
      "                          u'local_tz_offset': u'-0800',\n",
      "                          u'local_tz_short': u'PST',\n",
      "                          u'nowcast': u'',\n",
      "                          u'ob_url': u'http://www.wunderground.com/cgi-bin/findweather/getForecast?query=37.773285,-122.417725',\n",
      "                          u'observation_epoch': u'1457296205',\n",
      "                          u'observation_location': {u'city': u'SOMA - Near Van Ness, San Francisco',\n",
      "                                                    u'country': u'US',\n",
      "                                                    u'country_iso3166': u'US',\n",
      "                                                    u'elevation': u'49 ft',\n",
      "                                                    u'full': u'SOMA - Near Van Ness, San Francisco, California',\n",
      "                                                    u'latitude': u'37.773285',\n",
      "                                                    u'longitude': u'-122.417725',\n",
      "                                                    u'state': u'California'},\n",
      "                          u'observation_time': u'Last Updated on March 6, 12:30 PM PST',\n",
      "                          u'observation_time_rfc822': u'Sun, 06 Mar 2016 12:30:05 -0800',\n",
      "                          u'precip_1hr_in': u'0.00',\n",
      "                          u'precip_1hr_metric': u' 0',\n",
      "                          u'precip_1hr_string': u'0.00 in ( 0 mm)',\n",
      "                          u'precip_today_in': u'0.02',\n",
      "                          u'precip_today_metric': u'1',\n",
      "                          u'precip_today_string': u'0.02 in (1 mm)',\n",
      "                          u'pressure_in': u'30.02',\n",
      "                          u'pressure_mb': u'1017',\n",
      "                          u'pressure_trend': u'+',\n",
      "                          u'relative_humidity': u'76%',\n",
      "                          u'solarradiation': u'--',\n",
      "                          u'station_id': u'KCASANFR58',\n",
      "                          u'temp_c': 14.1,\n",
      "                          u'temp_f': 57.3,\n",
      "                          u'temperature_string': u'57.3 F (14.1 C)',\n",
      "                          u'visibility_km': u'16.1',\n",
      "                          u'visibility_mi': u'10.0',\n",
      "                          u'weather': u'Overcast',\n",
      "                          u'wind_degrees': 210,\n",
      "                          u'wind_dir': u'SSW',\n",
      "                          u'wind_gust_kph': u'20.9',\n",
      "                          u'wind_gust_mph': u'13.0',\n",
      "                          u'wind_kph': 8.0,\n",
      "                          u'wind_mph': 5.0,\n",
      "                          u'wind_string': u'From the SSW at 5.0 MPH Gusting to 13.0 MPH',\n",
      "                          u'windchill_c': u'NA',\n",
      "                          u'windchill_f': u'NA',\n",
      "                          u'windchill_string': u'NA'},\n",
      " u'response': {u'features': {u'conditions': 1},\n",
      "               u'termsofService': u'http://www.wunderground.com/weather/api/d/terms.html',\n",
      "               u'version': u'0.1'}}\n"
     ]
    }
   ],
   "source": [
    "import urllib, json\n",
    "from pprint import pprint\n",
    "\n",
    "url = \"http://api.wunderground.com/api/      api-key       /conditions/q/CA/San_Francisco.json\"\n",
    "response = urllib.urlopen(url)\n",
    "data = json.loads(response.read())\n",
    "pprint(data)"
   ]
  },
  {
   "cell_type": "code",
   "execution_count": null,
   "metadata": {
    "collapsed": true
   },
   "outputs": [],
   "source": [
    "\n"
   ]
  },
  {
   "cell_type": "code",
   "execution_count": null,
   "metadata": {
    "collapsed": true
   },
   "outputs": [],
   "source": []
  },
  {
   "cell_type": "markdown",
   "metadata": {},
   "source": [
    "Store to EBS"
   ]
  },
  {
   "cell_type": "code",
   "execution_count": null,
   "metadata": {
    "collapsed": true
   },
   "outputs": [],
   "source": []
  },
  {
   "cell_type": "markdown",
   "metadata": {},
   "source": [
    "### Produce a Prediction"
   ]
  },
  {
   "cell_type": "code",
   "execution_count": null,
   "metadata": {
    "collapsed": true
   },
   "outputs": [],
   "source": []
  },
  {
   "cell_type": "markdown",
   "metadata": {},
   "source": [
    "### Tag the Image, Send to Team"
   ]
  },
  {
   "cell_type": "code",
   "execution_count": null,
   "metadata": {
    "collapsed": true
   },
   "outputs": [],
   "source": []
  },
  {
   "cell_type": "markdown",
   "metadata": {},
   "source": [
    "### Clone the Analytics EC2, Scale for Production"
   ]
  },
  {
   "cell_type": "code",
   "execution_count": null,
   "metadata": {
    "collapsed": true
   },
   "outputs": [],
   "source": []
  },
  {
   "cell_type": "markdown",
   "metadata": {},
   "source": [
    "### Kafka, batch up Weather Stream?"
   ]
  },
  {
   "cell_type": "code",
   "execution_count": null,
   "metadata": {
    "collapsed": true
   },
   "outputs": [],
   "source": []
  },
  {
   "cell_type": "code",
   "execution_count": 4,
   "metadata": {
    "collapsed": false
   },
   "outputs": [
    {
     "name": "stdout",
     "output_type": "stream",
     "text": [
      "{\n",
      "    \"StoppingInstances\": [\n",
      "        {\n",
      "            \"InstanceId\": \"i-582bf5dc\", \n",
      "            \"CurrentState\": {\n",
      "                \"Code\": 64, \n",
      "                \"Name\": \"stopping\"\n",
      "            }, \n",
      "            \"PreviousState\": {\n",
      "                \"Code\": 16, \n",
      "                \"Name\": \"running\"\n",
      "            }\n",
      "        }\n",
      "    ]\n",
      "}\n"
     ]
    }
   ],
   "source": [
    "# stop instance \n",
    "!aws ec2 stop-instances --instance-id i-582bf5dc --region us-east-1"
   ]
  },
  {
   "cell_type": "code",
   "execution_count": null,
   "metadata": {
    "collapsed": true
   },
   "outputs": [],
   "source": []
  }
 ],
 "metadata": {
  "kernelspec": {
   "display_name": "Python 2",
   "language": "python",
   "name": "python2"
  },
  "language_info": {
   "codemirror_mode": {
    "name": "ipython",
    "version": 2
   },
   "file_extension": ".py",
   "mimetype": "text/x-python",
   "name": "python",
   "nbconvert_exporter": "python",
   "pygments_lexer": "ipython2",
   "version": "2.7.11"
  }
 },
 "nbformat": 4,
 "nbformat_minor": 0
}
